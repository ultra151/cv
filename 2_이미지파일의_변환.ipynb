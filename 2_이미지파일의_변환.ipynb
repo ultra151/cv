{
  "nbformat": 4,
  "nbformat_minor": 0,
  "metadata": {
    "colab": {
      "provenance": [],
      "authorship_tag": "ABX9TyMBoyszSIAGY+OXO/DqpiuL",
      "include_colab_link": true
    },
    "kernelspec": {
      "name": "python3",
      "display_name": "Python 3"
    },
    "language_info": {
      "name": "python"
    }
  },
  "cells": [
    {
      "cell_type": "markdown",
      "metadata": {
        "id": "view-in-github",
        "colab_type": "text"
      },
      "source": [
        "<a href=\"https://colab.research.google.com/github/ultra151/cv/blob/main/2_%EC%9D%B4%EB%AF%B8%EC%A7%80%ED%8C%8C%EC%9D%BC%EC%9D%98_%EB%B3%80%ED%99%98.ipynb\" target=\"_parent\"><img src=\"https://colab.research.google.com/assets/colab-badge.svg\" alt=\"Open In Colab\"/></a>"
      ]
    },
    {
      "cell_type": "code",
      "execution_count": null,
      "metadata": {
        "colab": {
          "base_uri": "https://localhost:8080/"
        },
        "id": "iReulIO8CI0n",
        "outputId": "fdfd4152-f447-49bd-c4f5-46a2ccf9d4be"
      },
      "outputs": [
        {
          "output_type": "stream",
          "name": "stdout",
          "text": [
            "Mounted at /content/gdrive\n"
          ]
        }
      ],
      "source": [
        "from google.colab import drive\n",
        "drive.mount('/content/gdrive')"
      ]
    },
    {
      "cell_type": "code",
      "source": [
        "import os, sys\n",
        "from IPython.display import display\n",
        "from IPython.display import Image as _Imgdis\n",
        "from PIL import Image\n",
        "import numpy as np"
      ],
      "metadata": {
        "id": "I-5O8DPWCymx"
      },
      "execution_count": null,
      "outputs": []
    },
    {
      "cell_type": "code",
      "source": [
        "folder = '/content/gdrive/MyDrive/pytest_img/mnist_jpg'"
      ],
      "metadata": {
        "id": "3oP5TR3xDu7L"
      },
      "execution_count": null,
      "outputs": []
    },
    {
      "cell_type": "code",
      "source": [
        "files = [f for f in os.listdir(folder) if os.path.isfile(os.path.join(folder,f))]\n",
        "print(files)\n",
        "print(\"Working with {0} images \".format(len(files)))"
      ],
      "metadata": {
        "colab": {
          "base_uri": "https://localhost:8080/"
        },
        "id": "_1V90rbaEVQ3",
        "outputId": "3e817402-6d0f-4e16-aeda-3d4973a98d06"
      },
      "execution_count": null,
      "outputs": [
        {
          "output_type": "stream",
          "name": "stdout",
          "text": [
            "['img_3_ (10).jpg', 'img_8_ (5).jpg', 'img_7_ (5).jpg', 'img_8_ (7).jpg', 'img_9_ (8).jpg', 'img_0_ (5).jpg', 'img_9_ (7).jpg', 'img_5_ (7).jpg', 'img_0_ (9).jpg', 'img_8_ (9).jpg', 'img_5_ (5).jpg', 'img_7_ (7).jpg', 'img_6_ (6).jpg', 'img_8_ (6).jpg', 'img_0_ (7).jpg', 'img_1_ (9).jpg', 'img_6_ (9).jpg', 'img_2_ (10).jpg', 'img_5_ (10).jpg', 'img_2_ (6).jpg', 'img_2_ (5).jpg', 'img_7_ (10).jpg', 'img_5_ (8).jpg', 'img_4_ (10).jpg', 'img_0_ (6).jpg', 'img_4_ (8).jpg', 'img_4_ (6).jpg', 'img_2_ (7).jpg', 'img_7_ (6).jpg', 'img_6_ (8).jpg', 'img_6_ (7).jpg', 'img_5_ (9).jpg', 'img_4_ (5).jpg', 'img_3_ (7).jpg', 'img_9_ (9).jpg', 'img_6_ (10).jpg', 'img_8_ (4).jpg', 'img_8_ (10).jpg', 'img_2_ (9).jpg', 'img_2_ (8).jpg', 'img_1_ (10).jpg', 'img_7_ (8).jpg', 'img_1_ (5).jpg', 'img_9_ (5).jpg', 'img_6_ (4).jpg', 'img_5_ (2).jpg', 'img_1_ (4).jpg', 'img_1_ (8).jpg', 'img_4_ (2).jpg', 'img_0_ (3).jpg', 'img_0_ (4).jpg', 'img_2_ (2).jpg', 'img_7_ (4).jpg', 'img_0_ (10).jpg', 'img_9_ (2).jpg', 'img_6_ (2).jpg', 'img_9_ (6).jpg', 'img_4_ (1).jpg', 'img_3_ (8).jpg', 'img_1_ (3).jpg', 'img_3_ (2).jpg', 'img_2_ (1).jpg', 'img_1_ (1).jpg', 'img_7_ (9).jpg', 'img_3_ (9).jpg', 'img_8_ (2).jpg', 'img_8_ (1).jpg', 'img_4_ (4).jpg', 'img_9_ (1).jpg', 'img_3_ (3).jpg', 'img_5_ (3).jpg', 'img_6_ (3).jpg', 'img_1_ (6).jpg', 'img_8_ (8).jpg', 'img_0_ (2).jpg', 'img_4_ (3).jpg', 'img_6_ (5).jpg', 'img_7_ (2).jpg', 'img_0_ (8).jpg', 'img_0_ (1).jpg', 'img_1_ (2).jpg', 'img_2_ (4).jpg', 'img_4_ (9).jpg', 'img_4_ (7).jpg', 'img_5_ (1).jpg', 'img_5_ (6).jpg', 'img_5_ (4).jpg', 'img_9_ (4).jpg', 'img_9_ (3).jpg', 'img_6_ (1).jpg', 'img_7_ (1).jpg', 'img_2_ (3).jpg', 'img_9_ (10).jpg', 'img_3_ (6).jpg', 'img_3_ (4).jpg', 'img_3_ (5).jpg', 'img_1_ (7).jpg', 'img_7_ (3).jpg', 'img_8_ (3).jpg', 'img_3_ (1).jpg']\n",
            "Working with 100 images \n"
          ]
        }
      ]
    },
    {
      "cell_type": "code",
      "source": [
        "for i in range(0, 2):\n",
        "    print(files[i])\n",
        "    display(_Imgdis(filename=folder + \"/\" + files[i], width=30, height=40))"
      ],
      "metadata": {
        "colab": {
          "base_uri": "https://localhost:8080/",
          "height": 132
        },
        "id": "OWr2IwoXJeNZ",
        "outputId": "6a89f4e7-7517-40da-9b94-174024bc09c0"
      },
      "execution_count": null,
      "outputs": [
        {
          "output_type": "stream",
          "name": "stdout",
          "text": [
            "img_3_ (10).jpg\n"
          ]
        },
        {
          "output_type": "display_data",
          "data": {
            "image/jpeg": "[encoded data removed]",
            "text/plain": [
              "<IPython.core.display.Image object>"
            ]
          },
          "metadata": {
            "image/jpeg": {
              "width": 30,
              "height": 40
            }
          }
        },
        {
          "output_type": "stream",
          "name": "stdout",
          "text": [
            "img_8_ (5).jpg\n"
          ]
        },
        {
          "output_type": "display_data",
          "data": {
            "image/jpeg": "[encoded data removed]",
            "text/plain": [
              "<IPython.core.display.Image object>"
            ]
          },
          "metadata": {
            "image/jpeg": {
              "width": 30,
              "height": 40
            }
          }
        }
      ]
    },
    {
      "cell_type": "code",
      "source": [
        "from tensorflow.keras.preprocessing.image import array_to_img, img_to_array, load_img"
      ],
      "metadata": {
        "id": "-17s2El6MZ-L"
      },
      "execution_count": null,
      "outputs": []
    },
    {
      "cell_type": "code",
      "source": [
        "file_names = []\n",
        "file_labels = []"
      ],
      "metadata": {
        "id": "igAdWu7eQLXG"
      },
      "execution_count": null,
      "outputs": []
    },
    {
      "cell_type": "code",
      "source": [
        "for _file in files:\n",
        "    file_names.append(_file)\n",
        "    label_start = _file.find(\"_\")+1\n",
        "    label_end = _file.find(\"_ (\")\n",
        "    file_labels.append(int(_file[label_start:label_end]))\n",
        "\n",
        "print(\"Files in folder: %d\" % len(file_names))"
      ],
      "metadata": {
        "colab": {
          "base_uri": "https://localhost:8080/"
        },
        "id": "7zOnpKCaQSnT",
        "outputId": "8a15cd80-1a83-409a-ecc2-3e8668cb8f29"
      },
      "execution_count": null,
      "outputs": [
        {
          "output_type": "stream",
          "name": "stdout",
          "text": [
            "Files in folder: 100\n"
          ]
        }
      ]
    },
    {
      "cell_type": "code",
      "source": [
        "os.chdir(folder)"
      ],
      "metadata": {
        "id": "oApMEypeRg3y"
      },
      "execution_count": null,
      "outputs": []
    },
    {
      "cell_type": "code",
      "source": [
        "!pwd"
      ],
      "metadata": {
        "colab": {
          "base_uri": "https://localhost:8080/"
        },
        "id": "suUlKg9OVTCv",
        "outputId": "2a02bef3-656a-484c-ed03-bf74d96808d4"
      },
      "execution_count": null,
      "outputs": [
        {
          "output_type": "stream",
          "name": "stdout",
          "text": [
            "/content/gdrive/MyDrive/pytest_img/mnist_jpg\n"
          ]
        }
      ]
    },
    {
      "cell_type": "code",
      "source": [
        "img = load_img(file_names[0])\n",
        "print(\"Original:\", type(img))"
      ],
      "metadata": {
        "colab": {
          "base_uri": "https://localhost:8080/"
        },
        "id": "zOrUSu01VVLD",
        "outputId": "79d2187b-0456-402c-e74b-3b6685710079"
      },
      "execution_count": null,
      "outputs": [
        {
          "output_type": "stream",
          "name": "stdout",
          "text": [
            "Original: <class 'PIL.Image.Image'>\n"
          ]
        }
      ]
    },
    {
      "cell_type": "code",
      "source": [
        "img_array = img_to_array(img)\n",
        "\n",
        "print(\"NumPy array info:\")\n",
        "print(type(img_array))\n",
        "print(\"type:\", img_array.dtype)\n",
        "print(\"shape:\", img_array.shape)\n",
        "\n"
      ],
      "metadata": {
        "colab": {
          "base_uri": "https://localhost:8080/"
        },
        "id": "ld_dTb37VuDl",
        "outputId": "39207898-11ce-43fc-905e-233f879ff2c1"
      },
      "execution_count": null,
      "outputs": [
        {
          "output_type": "stream",
          "name": "stdout",
          "text": [
            "NumPy array info:\n",
            "<class 'numpy.ndarray'>\n",
            "type: float32\n",
            "shape: (28, 28, 3)\n"
          ]
        }
      ]
    },
    {
      "cell_type": "code",
      "source": [
        "image_height = img_array.shape[0]\n",
        "image_width = img_array.shape[1]\n",
        "channels = img_array.shape[2]\n",
        "\n",
        "dataset = np.ndarray(shape=(len(file_names), image_height, image_width, channels), dtype=np.int32)\n",
        "print(dataset.shape)"
      ],
      "metadata": {
        "colab": {
          "base_uri": "https://localhost:8080/"
        },
        "id": "Ig76TXQ0WVcg",
        "outputId": "c94f223c-a201-4fd7-dd8d-134e1755fcf3"
      },
      "execution_count": null,
      "outputs": [
        {
          "output_type": "stream",
          "name": "stdout",
          "text": [
            "(100, 28, 28, 3)\n"
          ]
        }
      ]
    },
    {
      "cell_type": "code",
      "source": [
        "#file_names"
      ],
      "metadata": {
        "id": "3CsQu9HFc-DC"
      },
      "execution_count": null,
      "outputs": []
    },
    {
      "cell_type": "code",
      "source": [
        "for count, item in enumerate(file_names):\n",
        "    img = load_img(file_names[count])\n",
        "    img_array = img_to_array(img)\n",
        "    img_array = img_array.reshape(28,28,3)\n",
        "    dataset[count] = img_array\n",
        "\n",
        "    if count % 5000 == 0:\n",
        "        print(\"%d images to array\" % count)\n",
        "\n",
        "print(\"모든 이미지가 배열로 변환되었습니다!\")"
      ],
      "metadata": {
        "colab": {
          "base_uri": "https://localhost:8080/"
        },
        "id": "lkslaBeKXdhK",
        "outputId": "516123c3-588b-41ce-a232-e3b751cb4347"
      },
      "execution_count": null,
      "outputs": [
        {
          "output_type": "stream",
          "name": "stdout",
          "text": [
            "0 images to array\n",
            "모든 이미지가 배열로 변환되었습니다!\n"
          ]
        }
      ]
    },
    {
      "cell_type": "code",
      "source": [
        "dataset[0]"
      ],
      "metadata": {
        "colab": {
          "base_uri": "https://localhost:8080/"
        },
        "id": "uku_OnOGcLjr",
        "outputId": "7b5ae4c8-2e88-48f4-8d12-0b995f52bc0e"
      },
      "execution_count": null,
      "outputs": [
        {
          "output_type": "execute_result",
          "data": {
            "text/plain": [
              "array([[[ 3,  3,  3],\n",
              "        [ 0,  0,  0],\n",
              "        [ 4,  4,  4],\n",
              "        ...,\n",
              "        [ 0,  0,  0],\n",
              "        [ 0,  0,  0],\n",
              "        [ 0,  0,  0]],\n",
              "\n",
              "       [[ 0,  0,  0],\n",
              "        [11, 11, 11],\n",
              "        [ 8,  8,  8],\n",
              "        ...,\n",
              "        [ 0,  0,  0],\n",
              "        [ 0,  0,  0],\n",
              "        [ 0,  0,  0]],\n",
              "\n",
              "       [[ 0,  0,  0],\n",
              "        [ 2,  2,  2],\n",
              "        [ 0,  0,  0],\n",
              "        ...,\n",
              "        [ 0,  0,  0],\n",
              "        [ 0,  0,  0],\n",
              "        [ 0,  0,  0]],\n",
              "\n",
              "       ...,\n",
              "\n",
              "       [[ 0,  0,  0],\n",
              "        [ 0,  0,  0],\n",
              "        [ 0,  0,  0],\n",
              "        ...,\n",
              "        [ 0,  0,  0],\n",
              "        [ 0,  0,  0],\n",
              "        [ 0,  0,  0]],\n",
              "\n",
              "       [[ 0,  0,  0],\n",
              "        [ 0,  0,  0],\n",
              "        [ 0,  0,  0],\n",
              "        ...,\n",
              "        [ 0,  0,  0],\n",
              "        [ 0,  0,  0],\n",
              "        [ 0,  0,  0]],\n",
              "\n",
              "       [[ 0,  0,  0],\n",
              "        [ 0,  0,  0],\n",
              "        [ 0,  0,  0],\n",
              "        ...,\n",
              "        [ 0,  0,  0],\n",
              "        [ 0,  0,  0],\n",
              "        [ 0,  0,  0]]], dtype=int32)"
            ]
          },
          "metadata": {},
          "execution_count": 16
        }
      ]
    },
    {
      "cell_type": "code",
      "source": [
        "print(dataset.shape)\n",
        "print(file_labels[40])"
      ],
      "metadata": {
        "colab": {
          "base_uri": "https://localhost:8080/"
        },
        "id": "BK-83CqNeq3X",
        "outputId": "5f7dcaf0-8275-4cc7-95ba-ff31ddbaf211"
      },
      "execution_count": null,
      "outputs": [
        {
          "output_type": "stream",
          "name": "stdout",
          "text": [
            "(100, 28, 28, 3)\n",
            "1\n"
          ]
        }
      ]
    },
    {
      "cell_type": "code",
      "source": [
        "display(_Imgdis(filename=folder + \"/\" + files[40], width=30, height=40))"
      ],
      "metadata": {
        "colab": {
          "base_uri": "https://localhost:8080/",
          "height": 57
        },
        "id": "-F5cS-uHfprd",
        "outputId": "97f6b89f-7d61-47f7-ecc1-ec0a2590c2c8"
      },
      "execution_count": null,
      "outputs": [
        {
          "output_type": "display_data",
          "data": {
            "image/jpeg": "[encoded data removed]",
            "text/plain": [
              "<IPython.core.display.Image object>"
            ]
          },
          "metadata": {
            "image/jpeg": {
              "width": 30,
              "height": 40
            }
          }
        }
      ]
    },
    {
      "cell_type": "code",
      "source": [
        "np.set_printoptions(linewidth=np.inf)\n",
        "print(dataset[40,:,:,0])"
      ],
      "metadata": {
        "colab": {
          "base_uri": "https://localhost:8080/"
        },
        "id": "vgkjVHgQfujf",
        "outputId": "035393f1-b506-439d-9ee3-62f6fec6f7ec"
      },
      "execution_count": null,
      "outputs": [
        {
          "output_type": "stream",
          "name": "stdout",
          "text": [
            "[[  0   0   0   0   0   0   0   0   5   0   0   4   1   0   5   0   4   0   0   2   0   0   3   3   0   0   0   0]\n",
            " [  0   0   0   0   0   0   0   0   0   1   5   0   0  15   0   7   4   2   7   7   0   0   2   0   0   0   0   0]\n",
            " [  0   0   0   0   0   0   0   0   0   4  11   0   0   6   0   2   0   0   3   3   0   1   4   0   0   0   0   0]\n",
            " [  0   0   0   0   0   0   0   0   0   0   0  10   2  63 194  77  12   0   0   2   0   0   3   0   0   0   0   0]\n",
            " [  0   0   0   0   0   0   0   0   3   0   2   0  54 255 241 241  47  11   0   7   5   0   0   1   0   0   0   0]\n",
            " [  0   0   0   0   0   0   0   0   0   9   0  33 241 234 248 255  44   7   0   4   4   0   0   3   0   0   0   0]\n",
            " [  0   0   0   0   0   0   0   0   0   3  65 242 238 255 253 245   9   0   0   0   0   2   6   0   0   0   0   0]\n",
            " [  0   0   0   0   0   0   0   0   0  82 228 255 255 251 255 237   0   0   7   1   0   6   9   0   0   0   0   0]\n",
            " [  0   0   0   0   0   0   0   0   5 173 245 255 199 248 249 145   0   0   0   0   0   0   0   0   0   0   0   0]\n",
            " [  0   0   0   0   0   0   0   0   0 159 253 136  77 248 255 134   0   0   0   0   0   0   0   0   0   0   0   0]\n",
            " [  0   0   0   0   0   0   0   0   0   7  50   1  23 232 238 117   0   0   0   0   0   0   0   0   0   0   0   0]\n",
            " [  0   0   0   0   0   0   0   0  11   0   0   0  12 232 255 120   0   0   0   0   0   0   0   0   0   0   0   0]\n",
            " [  0   0   0   0   0   0   0   0   0   4   6   4   0 223 255 117   0   0   0   0   0   0   0   0   0   0   0   0]\n",
            " [  0   0   0   0   0   0   0   0  13   0   3   7   0 243 251 124   0   0   0   0   0   0   0   0   0   0   0   0]\n",
            " [  0   0   0   0   0   0   0   0   0   0  24   0   0 233 242  52   0   0   0   0   0   0   0   0   0   0   0   0]\n",
            " [  0   0   0   0   0   0   0   0   0   0   0   0  63 238 255   0   0   0   0   0   0   0   0   0   0   0   0   0]\n",
            " [  0   0   0   0   0   0   0   0   2   0  11   0  95 240 254   4   5   0   0  39   0   0  22   0   0   0   0   0]\n",
            " [  0   0   0   0   0   0   0   0   4   0   0   0  99 255 230   0   0  39 129 242 144   0   0   8   0   0   0   0]\n",
            " [  0   0   0   0   0   0   0   0   0  10   0  17 192 246 255 134  19  87 255 243 182   2   0   5   0   0   0   0]\n",
            " [  0   0   0   0   0   0   0   0  16   0   0  26 231 255 242 253 205 255 255 241 147   2   0   0   0   0   0   0]\n",
            " [  0   0   0   0   0   0   0   0   0  20  35 189 254 255 255 242 246 251 242  63  19   0  11   9   0   0   0   0]\n",
            " [  0   0   0   0   0   0   0   0  11   0 120 255 239 249 255 254 255 163   7   7   3   0   0   0   0   0   0   0]\n",
            " [  0   0   0   0   0   0   0   0  14   0  99 247 255 185 200 128  55   8  12   0   4   1   0   7   0   0   0   0]\n",
            " [  0   0   0   0   0   0   0   0   1   4   0   0   6   0   0   1   2   0   5   0   0   0   3   0   0   0   0   0]\n",
            " [  0   0   0   0   0   0   0   0   0   0   0   0   0   0   0   0   0   0   0   0   0   0   0   0   0   0   0   0]\n",
            " [  0   0   0   0   0   0   0   0   0   0   0   0   0   0   0   0   0   0   0   0   0   0   0   0   0   0   0   0]\n",
            " [  0   0   0   0   0   0   0   0   0   0   0   0   0   0   0   0   0   0   0   0   0   0   0   0   0   0   0   0]\n",
            " [  0   0   0   0   0   0   0   0   0   0   0   0   0   0   0   0   0   0   0   0   0   0   0   0   0   0   0   0]]\n"
          ]
        }
      ]
    },
    {
      "cell_type": "code",
      "source": [
        "from sklearn.model_selection import train_test_split\n",
        "\n",
        "train_images, test_images, train_labels, test_labels = train_test_split(dataset, file_labels, test_size=0.2, stratify=file_labels)\n",
        "\n",
        "print(\"Train set size: {0}, Test set size: {1}\".format(len(train_images), len(test_images)))"
      ],
      "metadata": {
        "id": "Dz0nAp_bg2wG",
        "colab": {
          "base_uri": "https://localhost:8080/"
        },
        "outputId": "4e808bd4-7327-4143-a3a4-410540031115"
      },
      "execution_count": null,
      "outputs": [
        {
          "output_type": "stream",
          "name": "stdout",
          "text": [
            "Train set size: 80, Test set size: 20\n"
          ]
        }
      ]
    },
    {
      "cell_type": "code",
      "source": [
        "from keras import models\n",
        "from keras import layers\n",
        "import numpy as np"
      ],
      "metadata": {
        "id": "hvLzdL8h8XIM"
      },
      "execution_count": null,
      "outputs": []
    },
    {
      "cell_type": "code",
      "source": [
        "model = models.Sequential()\n",
        "model.add(layers.Input(shape=(28,28,3)))\n",
        "model.add(layers.Conv2D(32, kernel_size=(3,3), activation='relu'))\n",
        "model.add(layers.Conv2D(64, kernel_size=(3,3), activation='relu'))\n",
        "model.add(layers.MaxPooling2D(pool_size=2))\n",
        "model.add(layers.Flatten())\n",
        "model.add(layers.Dense(128, activation='relu'))\n",
        "model.add(layers.Dropout(0.25))\n",
        "model.add(layers.Dense(10, activation='softmax'))\n",
        "\n",
        "model.summary()"
      ],
      "metadata": {
        "colab": {
          "base_uri": "https://localhost:8080/",
          "height": 364
        },
        "id": "XHJJTEIN9H6M",
        "outputId": "56c09592-8e3a-4b54-f785-bbfbcd3266e5"
      },
      "execution_count": null,
      "outputs": [
        {
          "output_type": "display_data",
          "data": {
            "text/plain": [
              "\u001b[1mModel: \"sequential\"\u001b[0m\n"
            ],
            "text/html": [
              "<pre style=\"white-space:pre;overflow-x:auto;line-height:normal;font-family:Menlo,'DejaVu Sans Mono',consolas,'Courier New',monospace\"><span style=\"font-weight: bold\">Model: \"sequential\"</span>\n",
              "</pre>\n"
            ]
          },
          "metadata": {}
        },
        {
          "output_type": "display_data",
          "data": {
            "text/plain": [
              "┏━━━━━━━━━━━━━━━━━━━━━━━━━━━━━━━━━━━━━━┳━━━━━━━━━━━━━━━━━━━━━━━━━━━━━┳━━━━━━━━━━━━━━━━━┓\n",
              "┃\u001b[1m \u001b[0m\u001b[1mLayer (type)                        \u001b[0m\u001b[1m \u001b[0m┃\u001b[1m \u001b[0m\u001b[1mOutput Shape               \u001b[0m\u001b[1m \u001b[0m┃\u001b[1m \u001b[0m\u001b[1m        Param #\u001b[0m\u001b[1m \u001b[0m┃\n",
              "┡━━━━━━━━━━━━━━━━━━━━━━━━━━━━━━━━━━━━━━╇━━━━━━━━━━━━━━━━━━━━━━━━━━━━━╇━━━━━━━━━━━━━━━━━┩\n",
              "│ conv2d (\u001b[38;5;33mConv2D\u001b[0m)                      │ (\u001b[38;5;45mNone\u001b[0m, \u001b[38;5;34m26\u001b[0m, \u001b[38;5;34m26\u001b[0m, \u001b[38;5;34m32\u001b[0m)          │             \u001b[38;5;34m896\u001b[0m │\n",
              "├──────────────────────────────────────┼─────────────────────────────┼─────────────────┤\n",
              "│ conv2d_1 (\u001b[38;5;33mConv2D\u001b[0m)                    │ (\u001b[38;5;45mNone\u001b[0m, \u001b[38;5;34m24\u001b[0m, \u001b[38;5;34m24\u001b[0m, \u001b[38;5;34m64\u001b[0m)          │          \u001b[38;5;34m18,496\u001b[0m │\n",
              "├──────────────────────────────────────┼─────────────────────────────┼─────────────────┤\n",
              "│ max_pooling2d (\u001b[38;5;33mMaxPooling2D\u001b[0m)         │ (\u001b[38;5;45mNone\u001b[0m, \u001b[38;5;34m12\u001b[0m, \u001b[38;5;34m12\u001b[0m, \u001b[38;5;34m64\u001b[0m)          │               \u001b[38;5;34m0\u001b[0m │\n",
              "├──────────────────────────────────────┼─────────────────────────────┼─────────────────┤\n",
              "│ flatten (\u001b[38;5;33mFlatten\u001b[0m)                    │ (\u001b[38;5;45mNone\u001b[0m, \u001b[38;5;34m9216\u001b[0m)                │               \u001b[38;5;34m0\u001b[0m │\n",
              "├──────────────────────────────────────┼─────────────────────────────┼─────────────────┤\n",
              "│ dense (\u001b[38;5;33mDense\u001b[0m)                        │ (\u001b[38;5;45mNone\u001b[0m, \u001b[38;5;34m128\u001b[0m)                 │       \u001b[38;5;34m1,179,776\u001b[0m │\n",
              "├──────────────────────────────────────┼─────────────────────────────┼─────────────────┤\n",
              "│ dropout (\u001b[38;5;33mDropout\u001b[0m)                    │ (\u001b[38;5;45mNone\u001b[0m, \u001b[38;5;34m128\u001b[0m)                 │               \u001b[38;5;34m0\u001b[0m │\n",
              "├──────────────────────────────────────┼─────────────────────────────┼─────────────────┤\n",
              "│ dense_1 (\u001b[38;5;33mDense\u001b[0m)                      │ (\u001b[38;5;45mNone\u001b[0m, \u001b[38;5;34m10\u001b[0m)                  │           \u001b[38;5;34m1,290\u001b[0m │\n",
              "└──────────────────────────────────────┴─────────────────────────────┴─────────────────┘\n"
            ],
            "text/html": [
              "<pre style=\"white-space:pre;overflow-x:auto;line-height:normal;font-family:Menlo,'DejaVu Sans Mono',consolas,'Courier New',monospace\">┏━━━━━━━━━━━━━━━━━━━━━━━━━━━━━━━━━━━━━━┳━━━━━━━━━━━━━━━━━━━━━━━━━━━━━┳━━━━━━━━━━━━━━━━━┓\n",
              "┃<span style=\"font-weight: bold\"> Layer (type)                         </span>┃<span style=\"font-weight: bold\"> Output Shape                </span>┃<span style=\"font-weight: bold\">         Param # </span>┃\n",
              "┡━━━━━━━━━━━━━━━━━━━━━━━━━━━━━━━━━━━━━━╇━━━━━━━━━━━━━━━━━━━━━━━━━━━━━╇━━━━━━━━━━━━━━━━━┩\n",
              "│ conv2d (<span style=\"color: #0087ff; text-decoration-color: #0087ff\">Conv2D</span>)                      │ (<span style=\"color: #00d7ff; text-decoration-color: #00d7ff\">None</span>, <span style=\"color: #00af00; text-decoration-color: #00af00\">26</span>, <span style=\"color: #00af00; text-decoration-color: #00af00\">26</span>, <span style=\"color: #00af00; text-decoration-color: #00af00\">32</span>)          │             <span style=\"color: #00af00; text-decoration-color: #00af00\">896</span> │\n",
              "├──────────────────────────────────────┼─────────────────────────────┼─────────────────┤\n",
              "│ conv2d_1 (<span style=\"color: #0087ff; text-decoration-color: #0087ff\">Conv2D</span>)                    │ (<span style=\"color: #00d7ff; text-decoration-color: #00d7ff\">None</span>, <span style=\"color: #00af00; text-decoration-color: #00af00\">24</span>, <span style=\"color: #00af00; text-decoration-color: #00af00\">24</span>, <span style=\"color: #00af00; text-decoration-color: #00af00\">64</span>)          │          <span style=\"color: #00af00; text-decoration-color: #00af00\">18,496</span> │\n",
              "├──────────────────────────────────────┼─────────────────────────────┼─────────────────┤\n",
              "│ max_pooling2d (<span style=\"color: #0087ff; text-decoration-color: #0087ff\">MaxPooling2D</span>)         │ (<span style=\"color: #00d7ff; text-decoration-color: #00d7ff\">None</span>, <span style=\"color: #00af00; text-decoration-color: #00af00\">12</span>, <span style=\"color: #00af00; text-decoration-color: #00af00\">12</span>, <span style=\"color: #00af00; text-decoration-color: #00af00\">64</span>)          │               <span style=\"color: #00af00; text-decoration-color: #00af00\">0</span> │\n",
              "├──────────────────────────────────────┼─────────────────────────────┼─────────────────┤\n",
              "│ flatten (<span style=\"color: #0087ff; text-decoration-color: #0087ff\">Flatten</span>)                    │ (<span style=\"color: #00d7ff; text-decoration-color: #00d7ff\">None</span>, <span style=\"color: #00af00; text-decoration-color: #00af00\">9216</span>)                │               <span style=\"color: #00af00; text-decoration-color: #00af00\">0</span> │\n",
              "├──────────────────────────────────────┼─────────────────────────────┼─────────────────┤\n",
              "│ dense (<span style=\"color: #0087ff; text-decoration-color: #0087ff\">Dense</span>)                        │ (<span style=\"color: #00d7ff; text-decoration-color: #00d7ff\">None</span>, <span style=\"color: #00af00; text-decoration-color: #00af00\">128</span>)                 │       <span style=\"color: #00af00; text-decoration-color: #00af00\">1,179,776</span> │\n",
              "├──────────────────────────────────────┼─────────────────────────────┼─────────────────┤\n",
              "│ dropout (<span style=\"color: #0087ff; text-decoration-color: #0087ff\">Dropout</span>)                    │ (<span style=\"color: #00d7ff; text-decoration-color: #00d7ff\">None</span>, <span style=\"color: #00af00; text-decoration-color: #00af00\">128</span>)                 │               <span style=\"color: #00af00; text-decoration-color: #00af00\">0</span> │\n",
              "├──────────────────────────────────────┼─────────────────────────────┼─────────────────┤\n",
              "│ dense_1 (<span style=\"color: #0087ff; text-decoration-color: #0087ff\">Dense</span>)                      │ (<span style=\"color: #00d7ff; text-decoration-color: #00d7ff\">None</span>, <span style=\"color: #00af00; text-decoration-color: #00af00\">10</span>)                  │           <span style=\"color: #00af00; text-decoration-color: #00af00\">1,290</span> │\n",
              "└──────────────────────────────────────┴─────────────────────────────┴─────────────────┘\n",
              "</pre>\n"
            ]
          },
          "metadata": {}
        },
        {
          "output_type": "display_data",
          "data": {
            "text/plain": [
              "\u001b[1m Total params: \u001b[0m\u001b[38;5;34m1,200,458\u001b[0m (4.58 MB)\n"
            ],
            "text/html": [
              "<pre style=\"white-space:pre;overflow-x:auto;line-height:normal;font-family:Menlo,'DejaVu Sans Mono',consolas,'Courier New',monospace\"><span style=\"font-weight: bold\"> Total params: </span><span style=\"color: #00af00; text-decoration-color: #00af00\">1,200,458</span> (4.58 MB)\n",
              "</pre>\n"
            ]
          },
          "metadata": {}
        },
        {
          "output_type": "display_data",
          "data": {
            "text/plain": [
              "\u001b[1m Trainable params: \u001b[0m\u001b[38;5;34m1,200,458\u001b[0m (4.58 MB)\n"
            ],
            "text/html": [
              "<pre style=\"white-space:pre;overflow-x:auto;line-height:normal;font-family:Menlo,'DejaVu Sans Mono',consolas,'Courier New',monospace\"><span style=\"font-weight: bold\"> Trainable params: </span><span style=\"color: #00af00; text-decoration-color: #00af00\">1,200,458</span> (4.58 MB)\n",
              "</pre>\n"
            ]
          },
          "metadata": {}
        },
        {
          "output_type": "display_data",
          "data": {
            "text/plain": [
              "\u001b[1m Non-trainable params: \u001b[0m\u001b[38;5;34m0\u001b[0m (0.00 B)\n"
            ],
            "text/html": [
              "<pre style=\"white-space:pre;overflow-x:auto;line-height:normal;font-family:Menlo,'DejaVu Sans Mono',consolas,'Courier New',monospace\"><span style=\"font-weight: bold\"> Non-trainable params: </span><span style=\"color: #00af00; text-decoration-color: #00af00\">0</span> (0.00 B)\n",
              "</pre>\n"
            ]
          },
          "metadata": {}
        }
      ]
    },
    {
      "cell_type": "code",
      "source": [
        "model.compile(loss='categorical_crossentropy', optimizer='rmsprop', metrics=['acc'])\n",
        "\n",
        "train_images = train_images.astype('float32')/255\n",
        "test_images = test_images.astype('float32')/255"
      ],
      "metadata": {
        "id": "Jqr-XFGRAViv"
      },
      "execution_count": null,
      "outputs": []
    },
    {
      "cell_type": "code",
      "source": [
        "from tensorflow.keras.utils import to_categorical\n",
        "train_lables = to_categorical(train_labels)\n",
        "test_labels = to_categorical(test_labels)"
      ],
      "metadata": {
        "id": "smNPfVm7B_li"
      },
      "execution_count": null,
      "outputs": []
    },
    {
      "cell_type": "code",
      "source": [
        "test_labels"
      ],
      "metadata": {
        "colab": {
          "base_uri": "https://localhost:8080/"
        },
        "id": "pFaO3sykIv6L",
        "outputId": "f528fdd9-6f31-4dbc-a219-7dd5c7fa4ec0"
      },
      "execution_count": null,
      "outputs": [
        {
          "output_type": "execute_result",
          "data": {
            "text/plain": [
              "array([[0., 0., 0., 0., 0., 1., 0., 0., 0., 0.],\n",
              "       [0., 0., 0., 0., 0., 0., 0., 0., 0., 1.],\n",
              "       [0., 0., 1., 0., 0., 0., 0., 0., 0., 0.],\n",
              "       [0., 0., 0., 0., 0., 0., 0., 0., 1., 0.],\n",
              "       [0., 0., 0., 1., 0., 0., 0., 0., 0., 0.],\n",
              "       [0., 0., 0., 0., 0., 0., 0., 0., 0., 1.],\n",
              "       [0., 0., 0., 0., 0., 1., 0., 0., 0., 0.],\n",
              "       [0., 0., 0., 0., 0., 0., 0., 0., 1., 0.],\n",
              "       [1., 0., 0., 0., 0., 0., 0., 0., 0., 0.],\n",
              "       [0., 0., 0., 0., 0., 0., 0., 1., 0., 0.],\n",
              "       [0., 0., 1., 0., 0., 0., 0., 0., 0., 0.],\n",
              "       [0., 1., 0., 0., 0., 0., 0., 0., 0., 0.],\n",
              "       [0., 0., 0., 0., 0., 0., 0., 1., 0., 0.],\n",
              "       [0., 1., 0., 0., 0., 0., 0., 0., 0., 0.],\n",
              "       [0., 0., 0., 0., 1., 0., 0., 0., 0., 0.],\n",
              "       [0., 0., 0., 0., 0., 0., 1., 0., 0., 0.],\n",
              "       [0., 0., 0., 1., 0., 0., 0., 0., 0., 0.],\n",
              "       [0., 0., 0., 0., 0., 0., 1., 0., 0., 0.],\n",
              "       [1., 0., 0., 0., 0., 0., 0., 0., 0., 0.],\n",
              "       [0., 0., 0., 0., 1., 0., 0., 0., 0., 0.]])"
            ]
          },
          "metadata": {},
          "execution_count": 25
        }
      ]
    },
    {
      "cell_type": "code",
      "source": [
        "history = model.fit(train_images, train_lables, epochs=5, batch_size=32, validation_data=(test_images, test_labels))"
      ],
      "metadata": {
        "colab": {
          "base_uri": "https://localhost:8080/"
        },
        "id": "Eh82CK7zB_-E",
        "outputId": "a3345057-7c76-4a82-870f-ccbb56ed04fd"
      },
      "execution_count": null,
      "outputs": [
        {
          "output_type": "stream",
          "name": "stdout",
          "text": [
            "Epoch 1/5\n",
            "\u001b[1m3/3\u001b[0m \u001b[32m━━━━━━━━━━━━━━━━━━━━\u001b[0m\u001b[37m\u001b[0m \u001b[1m2s\u001b[0m 309ms/step - acc: 0.0484 - loss: 2.4573 - val_acc: 0.3000 - val_loss: 2.0922\n",
            "Epoch 2/5\n",
            "\u001b[1m3/3\u001b[0m \u001b[32m━━━━━━━━━━━━━━━━━━━━\u001b[0m\u001b[37m\u001b[0m \u001b[1m1s\u001b[0m 151ms/step - acc: 0.4828 - loss: 1.9400 - val_acc: 0.5500 - val_loss: 1.4592\n",
            "Epoch 3/5\n",
            "\u001b[1m3/3\u001b[0m \u001b[32m━━━━━━━━━━━━━━━━━━━━\u001b[0m\u001b[37m\u001b[0m \u001b[1m1s\u001b[0m 140ms/step - acc: 0.5805 - loss: 1.4100 - val_acc: 0.5000 - val_loss: 1.3697\n",
            "Epoch 4/5\n",
            "\u001b[1m3/3\u001b[0m \u001b[32m━━━━━━━━━━━━━━━━━━━━\u001b[0m\u001b[37m\u001b[0m \u001b[1m0s\u001b[0m 76ms/step - acc: 0.7102 - loss: 0.8850 - val_acc: 0.7000 - val_loss: 0.8406\n",
            "Epoch 5/5\n",
            "\u001b[1m3/3\u001b[0m \u001b[32m━━━━━━━━━━━━━━━━━━━━\u001b[0m\u001b[37m\u001b[0m \u001b[1m0s\u001b[0m 85ms/step - acc: 0.8734 - loss: 0.4789 - val_acc: 0.7500 - val_loss: 0.7490\n"
          ]
        }
      ]
    },
    {
      "cell_type": "code",
      "source": [
        "acc = history.history['acc']\n",
        "val_acc = history.history['val_acc']\n",
        "loss = history.history['loss']\n",
        "val_loss = history.history['val_loss']\n",
        "\n",
        "print('Validation Accuracy of each epoch:',val_acc)"
      ],
      "metadata": {
        "colab": {
          "base_uri": "https://localhost:8080/"
        },
        "id": "5SicIEoyCAVg",
        "outputId": "3f1f100c-f6f1-4b5b-b166-78476b4c4fea"
      },
      "execution_count": null,
      "outputs": [
        {
          "output_type": "stream",
          "name": "stdout",
          "text": [
            "Validation Accuracy of each epoch: [0.30000001192092896, 0.550000011920929, 0.5, 0.699999988079071, 0.75]\n"
          ]
        }
      ]
    },
    {
      "cell_type": "code",
      "source": [
        "print(val_loss)"
      ],
      "metadata": {
        "colab": {
          "base_uri": "https://localhost:8080/"
        },
        "id": "F5AqO8unJM-L",
        "outputId": "598ee1c9-2fc5-4301-c22b-7f071ab50b8a"
      },
      "execution_count": null,
      "outputs": [
        {
          "output_type": "stream",
          "name": "stdout",
          "text": [
            "[2.09218168258667, 1.4592297077178955, 1.369704008102417, 0.8405739665031433, 0.7490034103393555]\n"
          ]
        }
      ]
    },
    {
      "cell_type": "code",
      "source": [
        "test_loss, test_acc = model.evaluate(test_images, test_labels)\n",
        "print('Test accuracy:', test_acc)"
      ],
      "metadata": {
        "colab": {
          "base_uri": "https://localhost:8080/"
        },
        "id": "eiX78QC2JMlJ",
        "outputId": "46dd06f8-2371-4f44-9504-e94c5a425206"
      },
      "execution_count": null,
      "outputs": [
        {
          "output_type": "stream",
          "name": "stdout",
          "text": [
            "\u001b[1m1/1\u001b[0m \u001b[32m━━━━━━━━━━━━━━━━━━━━\u001b[0m\u001b[37m\u001b[0m \u001b[1m0s\u001b[0m 42ms/step - acc: 0.7500 - loss: 0.7490\n",
            "Test accuracy: 0.75\n"
          ]
        }
      ]
    },
    {
      "cell_type": "code",
      "source": [
        "import matplotlib.pyplot as plt\n",
        "epochs = range(1, len(val_acc) + 1)"
      ],
      "metadata": {
        "id": "oS2FMS_hJMYs"
      },
      "execution_count": null,
      "outputs": []
    },
    {
      "cell_type": "code",
      "source": [
        "plt.plot(epochs, acc, 'bo', label='Training acc')\n",
        "plt.plot(epochs, val_acc, 'b', label='Validation acc')\n",
        "plt.title('Training and validation accuracy')\n",
        "plt.legend()\n",
        "plt.show()\n",
        "plt.figure()"
      ],
      "metadata": {
        "colab": {
          "base_uri": "https://localhost:8080/",
          "height": 487
        },
        "id": "pE--rCNcMe4T",
        "outputId": "a17aa913-8a90-406b-ad6a-fade8bc49f77"
      },
      "execution_count": null,
      "outputs": [
        {
          "output_type": "display_data",
          "data": {
            "text/plain": [
              "<Figure size 640x480 with 1 Axes>"
            ],
            "image/png": "[encoded data removed]"
          },
          "metadata": {}
        },
        {
          "output_type": "execute_result",
          "data": {
            "text/plain": [
              "<Figure size 640x480 with 0 Axes>"
            ]
          },
          "metadata": {},
          "execution_count": 31
        },
        {
          "output_type": "display_data",
          "data": {
            "text/plain": [
              "<Figure size 640x480 with 0 Axes>"
            ]
          },
          "metadata": {}
        }
      ]
    },
    {
      "cell_type": "code",
      "source": [
        "plt.plot(epochs, loss, 'bo', label='Training loss')\n",
        "plt.plot(epochs, val_loss, 'b', label='Validation loss')\n",
        "plt.title('Training and validation loss')\n",
        "plt.legend()\n",
        "plt.show()"
      ],
      "metadata": {
        "colab": {
          "base_uri": "https://localhost:8080/",
          "height": 452
        },
        "id": "W29B3v2lMe0j",
        "outputId": "8c157727-2de6-4728-bbd4-aa18fba08f31"
      },
      "execution_count": null,
      "outputs": [
        {
          "output_type": "display_data",
          "data": {
            "text/plain": [
              "<Figure size 640x480 with 1 Axes>"
            ],
            "image/png": "[encoded data removed]"
          },
          "metadata": {}
        }
      ]
    },
    {
      "cell_type": "code",
      "source": [],
      "metadata": {
        "id": "Grig8MoOMewz"
      },
      "execution_count": null,
      "outputs": []
    },
    {
      "cell_type": "markdown",
      "source": [
        "## Cats and Dogs"
      ],
      "metadata": {
        "id": "edHWHzIuUYaC"
      }
    },
    {
      "cell_type": "code",
      "source": [
        "folder = '/content/gdrive/MyDrive/pytest_img/cats_dogs'\n",
        "files = [f for f in os.listdir(folder) if os.path.isfile(os.path.join(folder, f))]\n",
        "print(\"Working with {0} images\".format(len(files)))"
      ],
      "metadata": {
        "colab": {
          "base_uri": "https://localhost:8080/"
        },
        "id": "J6K1cf-4Mes9",
        "outputId": "67a98cc7-dddc-4b85-b43d-3673a30c0ea6"
      },
      "execution_count": null,
      "outputs": [
        {
          "output_type": "stream",
          "name": "stdout",
          "text": [
            "Working with 60 images\n"
          ]
        }
      ]
    },
    {
      "cell_type": "code",
      "source": [
        "for i in range(0, 2):\n",
        "    print(files[i])\n",
        "    display(_Imgdis(filename=folder + \"/\" + files[i], width=120, height=160))"
      ],
      "metadata": {
        "colab": {
          "base_uri": "https://localhost:8080/",
          "height": 372
        },
        "id": "YW5CAcV1Memv",
        "outputId": "0edeccb8-2437-43e3-a6c0-98396dd99a0c"
      },
      "execution_count": null,
      "outputs": [
        {
          "output_type": "stream",
          "name": "stdout",
          "text": [
            "cat.21.jpg\n"
          ]
        },
        {
          "output_type": "display_data",
          "data": {
            "image/jpeg": "[encoded data removed]",
            "text/plain": [
              "<IPython.core.display.Image object>"
            ]
          },
          "metadata": {
            "image/jpeg": {
              "width": 120,
              "height": 160
            }
          }
        },
        {
          "output_type": "stream",
          "name": "stdout",
          "text": [
            "dog.28.jpg\n"
          ]
        },
        {
          "output_type": "display_data",
          "data": {
            "image/jpeg": "[encoded data removed]",
            "text/plain": [
              "<IPython.core.display.Image object>"
            ]
          },
          "metadata": {
            "image/jpeg": {
              "width": 120,
              "height": 160
            }
          }
        }
      ]
    },
    {
      "cell_type": "code",
      "source": [
        "from tensorflow.keras.preprocessing.image import array_to_img, img_to_array, load_img\n",
        "file_names = []\n",
        "file_labels = []\n",
        "\n",
        "for _file in files:\n",
        "    file_names.append(_file)\n",
        "    label_start = 0\n",
        "    label_end = _file.find(\".\")\n",
        "    label_str = _file[label_start:label_end]\n",
        "\n",
        "    if label_str == \"cat\":\n",
        "        file_labels.append(0)\n",
        "    elif label_str == \"dog\":\n",
        "        file_labels.append(1)\n",
        "    else:\n",
        "        print(\"Error!\")\n",
        "\n",
        "print(\"Files in folder: %d\" % len(file_names))\n"
      ],
      "metadata": {
        "colab": {
          "base_uri": "https://localhost:8080/"
        },
        "id": "9LHObHFlVfsI",
        "outputId": "eb84452a-50aa-468c-96dd-e074ac425b23"
      },
      "execution_count": null,
      "outputs": [
        {
          "output_type": "stream",
          "name": "stdout",
          "text": [
            "Files in folder: 60\n"
          ]
        }
      ]
    },
    {
      "cell_type": "code",
      "source": [
        "os.chdir(folder)\n",
        "\n",
        "img = load_img(file_names[0])\n",
        "print(\"Original:\", type(img))\n",
        "\n",
        "img_array = img_to_array(img)\n",
        "\n",
        "print(\"NumPy array info:\")\n",
        "print(type(img_array))\n",
        "print(\"type:\", img_array.dtype)\n",
        "print(\"shape:\", img_array.shape)"
      ],
      "metadata": {
        "colab": {
          "base_uri": "https://localhost:8080/"
        },
        "id": "qXU-fK26YIjp",
        "outputId": "bf98d351-7331-4329-f462-e3326a0bd8e9"
      },
      "execution_count": null,
      "outputs": [
        {
          "output_type": "stream",
          "name": "stdout",
          "text": [
            "Original: <class 'PIL.JpegImagePlugin.JpegImageFile'>\n",
            "NumPy array info:\n",
            "<class 'numpy.ndarray'>\n",
            "type: float32\n",
            "shape: (499, 431, 3)\n"
          ]
        }
      ]
    },
    {
      "cell_type": "code",
      "source": [
        "img = load_img(file_names[1])\n",
        "print(\"Original:\", type(img))\n",
        "\n",
        "img_array = img_to_array(img)\n",
        "\n",
        "print(\"NumPy array info:\")\n",
        "print(type(img_array))\n",
        "print(\"type:\", img_array.dtype)\n",
        "print(\"shape:\", img_array.shape)"
      ],
      "metadata": {
        "colab": {
          "base_uri": "https://localhost:8080/"
        },
        "id": "GRzg32n_bnpf",
        "outputId": "1035b8af-3081-46a7-f25f-4931851927e6"
      },
      "execution_count": null,
      "outputs": [
        {
          "output_type": "stream",
          "name": "stdout",
          "text": [
            "Original: <class 'PIL.JpegImagePlugin.JpegImageFile'>\n",
            "NumPy array info:\n",
            "<class 'numpy.ndarray'>\n",
            "type: float32\n",
            "shape: (432, 287, 3)\n"
          ]
        }
      ]
    },
    {
      "cell_type": "code",
      "source": [
        "image_height = 20\n",
        "image_width = 20\n",
        "channels = 3\n",
        "\n",
        "dataset = np.ndarray(shape=(len(file_names), image_height, image_width, channels), dtype=np.int32)\n",
        "print(dataset.shape)"
      ],
      "metadata": {
        "colab": {
          "base_uri": "https://localhost:8080/"
        },
        "id": "uio8t-THb1T2",
        "outputId": "006fc1c4-ee70-4de7-fb2d-935a76060c88"
      },
      "execution_count": null,
      "outputs": [
        {
          "output_type": "stream",
          "name": "stdout",
          "text": [
            "(60, 20, 20, 3)\n"
          ]
        }
      ]
    },
    {
      "cell_type": "code",
      "source": [
        "import os\n",
        "if not os.path.exists(os.path.join(folder, 'new/')):\n",
        "    os.makedirs(os.path.join(folder, 'new/'))"
      ],
      "metadata": {
        "id": "MiCuv_hvd5gl"
      },
      "execution_count": null,
      "outputs": []
    },
    {
      "cell_type": "code",
      "source": [
        "from PIL import Image\n",
        "for count, item in enumerate(file_names):\n",
        "    img = load_img(file_names[count])\n",
        "    img = img.resize((20,20), Image.Resampling.LANCZOS)\n",
        "    img.save(fp=os.path.join(folder, 'new/') + file_names[count])"
      ],
      "metadata": {
        "id": "mOLVWTNFkGW9"
      },
      "execution_count": null,
      "outputs": []
    },
    {
      "cell_type": "code",
      "source": [],
      "metadata": {
        "id": "KTC4El_hkUgm"
      },
      "execution_count": null,
      "outputs": []
    },
    {
      "cell_type": "code",
      "source": [
        "for count, item in enumerate(file_names):\n",
        "    img = load_img(os.path.join(folder, 'new/') + file_names[count])\n",
        "    img_array = img_to_array(img)\n",
        "    dataset[count] = img_array\n",
        "\n",
        "    if count % 10 == 0:\n",
        "        print(f\"{count} images to array\")\n",
        "\n",
        "print(\"모든 이미지가 배열로 변환되었습니다!\")"
      ],
      "metadata": {
        "colab": {
          "base_uri": "https://localhost:8080/"
        },
        "id": "bDMcS5X9nc3Z",
        "outputId": "f25eee9d-b41f-48d6-88d2-ee9dc6090b7a"
      },
      "execution_count": null,
      "outputs": [
        {
          "output_type": "stream",
          "name": "stdout",
          "text": [
            "0 images to array\n",
            "10 images to array\n",
            "20 images to array\n",
            "30 images to array\n",
            "40 images to array\n",
            "50 images to array\n",
            "모든 이미지가 배열로 변환되었습니다!\n"
          ]
        }
      ]
    },
    {
      "cell_type": "code",
      "source": [
        "print(dataset.shape)\n",
        "print(file_labels[30])\n",
        "\n",
        "display(_Imgdis(filename=os.path.join(folder, 'new') + \"/\" + files[30], width=100, height=100))"
      ],
      "metadata": {
        "colab": {
          "base_uri": "https://localhost:8080/",
          "height": 152
        },
        "id": "DWtogR9PoY2Z",
        "outputId": "48d557a7-8225-4896-ad56-5519d9ee020d"
      },
      "execution_count": null,
      "outputs": [
        {
          "output_type": "stream",
          "name": "stdout",
          "text": [
            "(60, 20, 20, 3)\n",
            "0\n"
          ]
        },
        {
          "output_type": "display_data",
          "data": {
            "image/jpeg": "[encoded data removed]",
            "text/plain": [
              "<IPython.core.display.Image object>"
            ]
          },
          "metadata": {
            "image/jpeg": {
              "width": 100,
              "height": 100
            }
          }
        }
      ]
    },
    {
      "cell_type": "code",
      "source": [
        "np.set_printoptions(linewidth=np.inf)\n",
        "print(dataset[30,:,:,0])"
      ],
      "metadata": {
        "colab": {
          "base_uri": "https://localhost:8080/"
        },
        "id": "XKbQG6UdpYsO",
        "outputId": "63cd46a0-1e0d-4e09-db57-1eb9ca44ae1c"
      },
      "execution_count": null,
      "outputs": [
        {
          "output_type": "stream",
          "name": "stdout",
          "text": [
            "[[ 29  34  49  72 131 185 248 243 216 255 197 171 175 238 212 178 179 151 177 176]\n",
            " [ 27  24  49  82 132 179 249 248 233 239 213 177 187 212 215 192 178 151 178 176]\n",
            " [ 41  34  73 112 142 180 253 250 211 240 220 172 170 206 224 185 175 149 177 176]\n",
            " [ 37  35  84 119 133 170 246 233 203 251 160 162 171 216 222 176 167 143 172 173]\n",
            " [ 35  41  92 119 134 179 255 243 213 236  74 128 175 170 198 184 157 134 165 168]\n",
            " [ 41  50  96 125 145 180 250 238 157 200  53  58 101  71 172 185 151 127 159 161]\n",
            " [ 41  46  89 128 142 129 157 145 102 154  53  17  17  37 163 172 148 124 156 157]\n",
            " [ 57  58 101 147 148  83  67  49 121 112  22  31   7  80 165 166 150 125 154 155]\n",
            " [ 51  57  95 144 150 118 101 111 121  76  10  26  26  68 139 164 147 120 145 149]\n",
            " [ 53  62  99 147 158 131 110 110 103  78  16  19   1   4  55  92 145 114 131 141]\n",
            " [ 49  69 100 116 106  95 109 136 130 103  18  12   5   1   7  22 105 111 129 131]\n",
            " [ 46  67  82  72  52  56  95 134 141 127  24   5  20  23  11   6  35  96 119 109]\n",
            " [ 47  55  60  55  52  59  74  86  87 123  43   3   2  12  13  16   9  87 103 108]\n",
            " [ 43  52  57  55  51  51  56  60  52 111  53  12   1  11  15  15  11  80  79 109]\n",
            " [ 44  53  60  56  44  38  46  57  57  95  38  17  16  26  21   9  27 117  97 108]\n",
            " [ 53  49  52  60  62  54  44  38  55  74  17  11  11  17  16   8  76 205 174 135]\n",
            " [ 46  51  56  56  51  48  48  50  57  57  42  34  34  11   0  14 134 196 240 172]\n",
            " [ 56  48  47  60  77  79  62  43  39  60  55  36  29  33  71 129 175 212 241 180]\n",
            " [189 156 119 102 102  99  82  63  37  66  76  81 111 145 185 230 222 230 232 163]\n",
            " [244 237 227 219 214 209 202 197 181 198 194 197 230 246 235 230 242 238 220 133]]\n"
          ]
        }
      ]
    },
    {
      "cell_type": "code",
      "source": [
        "from sklearn.model_selection import train_test_split\n",
        "\n",
        "train_images, test_images, train_labels, test_labels = train_test_split(dataset, file_labels, test_size=0.2, stratify=file_labels)\n",
        "print(\"Train set size: {0}, Test set size: {1}\".format(len(train_images), len(test_images)))"
      ],
      "metadata": {
        "colab": {
          "base_uri": "https://localhost:8080/"
        },
        "id": "J9ETqlFjputd",
        "outputId": "eca07762-cd83-4bcf-d41a-4824ac819f1e"
      },
      "execution_count": null,
      "outputs": [
        {
          "output_type": "stream",
          "name": "stdout",
          "text": [
            "Train set size: 48, Test set size: 12\n"
          ]
        }
      ]
    },
    {
      "cell_type": "code",
      "source": [
        "from tensorflow.keras import models\n",
        "from tensorflow.keras import layers\n",
        "import numpy as np\n",
        "\n",
        "model = models.Sequential()\n",
        "model.add(layers.Input(shape=(20,20,3)))\n",
        "model.add(layers.Conv2D(32, kernel_size=(3,3), activation='relu'))\n",
        "model.add(layers.Conv2D(64, kernel_size=(3,3), activation='relu'))\n",
        "model.add(layers.MaxPooling2D(pool_size=2))\n",
        "model.add(layers.Flatten())\n",
        "model.add(layers.Dense(128, activation='relu'))\n",
        "model.add(layers.Dropout(0.25))\n",
        "model.add(layers.Dense(1, activation='sigmoid'))\n",
        "\n",
        "model.summary()"
      ],
      "metadata": {
        "colab": {
          "base_uri": "https://localhost:8080/",
          "height": 364
        },
        "id": "BEoUai4Dqs6u",
        "outputId": "dcaf9a26-c38f-4c34-aacb-f35921875a13"
      },
      "execution_count": null,
      "outputs": [
        {
          "output_type": "display_data",
          "data": {
            "text/plain": [
              "\u001b[1mModel: \"sequential_1\"\u001b[0m\n"
            ],
            "text/html": [
              "<pre style=\"white-space:pre;overflow-x:auto;line-height:normal;font-family:Menlo,'DejaVu Sans Mono',consolas,'Courier New',monospace\"><span style=\"font-weight: bold\">Model: \"sequential_1\"</span>\n",
              "</pre>\n"
            ]
          },
          "metadata": {}
        },
        {
          "output_type": "display_data",
          "data": {
            "text/plain": [
              "┏━━━━━━━━━━━━━━━━━━━━━━━━━━━━━━━━━━━━━━┳━━━━━━━━━━━━━━━━━━━━━━━━━━━━━┳━━━━━━━━━━━━━━━━━┓\n",
              "┃\u001b[1m \u001b[0m\u001b[1mLayer (type)                        \u001b[0m\u001b[1m \u001b[0m┃\u001b[1m \u001b[0m\u001b[1mOutput Shape               \u001b[0m\u001b[1m \u001b[0m┃\u001b[1m \u001b[0m\u001b[1m        Param #\u001b[0m\u001b[1m \u001b[0m┃\n",
              "┡━━━━━━━━━━━━━━━━━━━━━━━━━━━━━━━━━━━━━━╇━━━━━━━━━━━━━━━━━━━━━━━━━━━━━╇━━━━━━━━━━━━━━━━━┩\n",
              "│ conv2d_2 (\u001b[38;5;33mConv2D\u001b[0m)                    │ (\u001b[38;5;45mNone\u001b[0m, \u001b[38;5;34m18\u001b[0m, \u001b[38;5;34m18\u001b[0m, \u001b[38;5;34m32\u001b[0m)          │             \u001b[38;5;34m896\u001b[0m │\n",
              "├──────────────────────────────────────┼─────────────────────────────┼─────────────────┤\n",
              "│ conv2d_3 (\u001b[38;5;33mConv2D\u001b[0m)                    │ (\u001b[38;5;45mNone\u001b[0m, \u001b[38;5;34m16\u001b[0m, \u001b[38;5;34m16\u001b[0m, \u001b[38;5;34m64\u001b[0m)          │          \u001b[38;5;34m18,496\u001b[0m │\n",
              "├──────────────────────────────────────┼─────────────────────────────┼─────────────────┤\n",
              "│ max_pooling2d_1 (\u001b[38;5;33mMaxPooling2D\u001b[0m)       │ (\u001b[38;5;45mNone\u001b[0m, \u001b[38;5;34m8\u001b[0m, \u001b[38;5;34m8\u001b[0m, \u001b[38;5;34m64\u001b[0m)            │               \u001b[38;5;34m0\u001b[0m │\n",
              "├──────────────────────────────────────┼─────────────────────────────┼─────────────────┤\n",
              "│ flatten_1 (\u001b[38;5;33mFlatten\u001b[0m)                  │ (\u001b[38;5;45mNone\u001b[0m, \u001b[38;5;34m4096\u001b[0m)                │               \u001b[38;5;34m0\u001b[0m │\n",
              "├──────────────────────────────────────┼─────────────────────────────┼─────────────────┤\n",
              "│ dense_2 (\u001b[38;5;33mDense\u001b[0m)                      │ (\u001b[38;5;45mNone\u001b[0m, \u001b[38;5;34m128\u001b[0m)                 │         \u001b[38;5;34m524,416\u001b[0m │\n",
              "├──────────────────────────────────────┼─────────────────────────────┼─────────────────┤\n",
              "│ dropout_1 (\u001b[38;5;33mDropout\u001b[0m)                  │ (\u001b[38;5;45mNone\u001b[0m, \u001b[38;5;34m128\u001b[0m)                 │               \u001b[38;5;34m0\u001b[0m │\n",
              "├──────────────────────────────────────┼─────────────────────────────┼─────────────────┤\n",
              "│ dense_3 (\u001b[38;5;33mDense\u001b[0m)                      │ (\u001b[38;5;45mNone\u001b[0m, \u001b[38;5;34m1\u001b[0m)                   │             \u001b[38;5;34m129\u001b[0m │\n",
              "└──────────────────────────────────────┴─────────────────────────────┴─────────────────┘\n"
            ],
            "text/html": [
              "<pre style=\"white-space:pre;overflow-x:auto;line-height:normal;font-family:Menlo,'DejaVu Sans Mono',consolas,'Courier New',monospace\">┏━━━━━━━━━━━━━━━━━━━━━━━━━━━━━━━━━━━━━━┳━━━━━━━━━━━━━━━━━━━━━━━━━━━━━┳━━━━━━━━━━━━━━━━━┓\n",
              "┃<span style=\"font-weight: bold\"> Layer (type)                         </span>┃<span style=\"font-weight: bold\"> Output Shape                </span>┃<span style=\"font-weight: bold\">         Param # </span>┃\n",
              "┡━━━━━━━━━━━━━━━━━━━━━━━━━━━━━━━━━━━━━━╇━━━━━━━━━━━━━━━━━━━━━━━━━━━━━╇━━━━━━━━━━━━━━━━━┩\n",
              "│ conv2d_2 (<span style=\"color: #0087ff; text-decoration-color: #0087ff\">Conv2D</span>)                    │ (<span style=\"color: #00d7ff; text-decoration-color: #00d7ff\">None</span>, <span style=\"color: #00af00; text-decoration-color: #00af00\">18</span>, <span style=\"color: #00af00; text-decoration-color: #00af00\">18</span>, <span style=\"color: #00af00; text-decoration-color: #00af00\">32</span>)          │             <span style=\"color: #00af00; text-decoration-color: #00af00\">896</span> │\n",
              "├──────────────────────────────────────┼─────────────────────────────┼─────────────────┤\n",
              "│ conv2d_3 (<span style=\"color: #0087ff; text-decoration-color: #0087ff\">Conv2D</span>)                    │ (<span style=\"color: #00d7ff; text-decoration-color: #00d7ff\">None</span>, <span style=\"color: #00af00; text-decoration-color: #00af00\">16</span>, <span style=\"color: #00af00; text-decoration-color: #00af00\">16</span>, <span style=\"color: #00af00; text-decoration-color: #00af00\">64</span>)          │          <span style=\"color: #00af00; text-decoration-color: #00af00\">18,496</span> │\n",
              "├──────────────────────────────────────┼─────────────────────────────┼─────────────────┤\n",
              "│ max_pooling2d_1 (<span style=\"color: #0087ff; text-decoration-color: #0087ff\">MaxPooling2D</span>)       │ (<span style=\"color: #00d7ff; text-decoration-color: #00d7ff\">None</span>, <span style=\"color: #00af00; text-decoration-color: #00af00\">8</span>, <span style=\"color: #00af00; text-decoration-color: #00af00\">8</span>, <span style=\"color: #00af00; text-decoration-color: #00af00\">64</span>)            │               <span style=\"color: #00af00; text-decoration-color: #00af00\">0</span> │\n",
              "├──────────────────────────────────────┼─────────────────────────────┼─────────────────┤\n",
              "│ flatten_1 (<span style=\"color: #0087ff; text-decoration-color: #0087ff\">Flatten</span>)                  │ (<span style=\"color: #00d7ff; text-decoration-color: #00d7ff\">None</span>, <span style=\"color: #00af00; text-decoration-color: #00af00\">4096</span>)                │               <span style=\"color: #00af00; text-decoration-color: #00af00\">0</span> │\n",
              "├──────────────────────────────────────┼─────────────────────────────┼─────────────────┤\n",
              "│ dense_2 (<span style=\"color: #0087ff; text-decoration-color: #0087ff\">Dense</span>)                      │ (<span style=\"color: #00d7ff; text-decoration-color: #00d7ff\">None</span>, <span style=\"color: #00af00; text-decoration-color: #00af00\">128</span>)                 │         <span style=\"color: #00af00; text-decoration-color: #00af00\">524,416</span> │\n",
              "├──────────────────────────────────────┼─────────────────────────────┼─────────────────┤\n",
              "│ dropout_1 (<span style=\"color: #0087ff; text-decoration-color: #0087ff\">Dropout</span>)                  │ (<span style=\"color: #00d7ff; text-decoration-color: #00d7ff\">None</span>, <span style=\"color: #00af00; text-decoration-color: #00af00\">128</span>)                 │               <span style=\"color: #00af00; text-decoration-color: #00af00\">0</span> │\n",
              "├──────────────────────────────────────┼─────────────────────────────┼─────────────────┤\n",
              "│ dense_3 (<span style=\"color: #0087ff; text-decoration-color: #0087ff\">Dense</span>)                      │ (<span style=\"color: #00d7ff; text-decoration-color: #00d7ff\">None</span>, <span style=\"color: #00af00; text-decoration-color: #00af00\">1</span>)                   │             <span style=\"color: #00af00; text-decoration-color: #00af00\">129</span> │\n",
              "└──────────────────────────────────────┴─────────────────────────────┴─────────────────┘\n",
              "</pre>\n"
            ]
          },
          "metadata": {}
        },
        {
          "output_type": "display_data",
          "data": {
            "text/plain": [
              "\u001b[1m Total params: \u001b[0m\u001b[38;5;34m543,937\u001b[0m (2.07 MB)\n"
            ],
            "text/html": [
              "<pre style=\"white-space:pre;overflow-x:auto;line-height:normal;font-family:Menlo,'DejaVu Sans Mono',consolas,'Courier New',monospace\"><span style=\"font-weight: bold\"> Total params: </span><span style=\"color: #00af00; text-decoration-color: #00af00\">543,937</span> (2.07 MB)\n",
              "</pre>\n"
            ]
          },
          "metadata": {}
        },
        {
          "output_type": "display_data",
          "data": {
            "text/plain": [
              "\u001b[1m Trainable params: \u001b[0m\u001b[38;5;34m543,937\u001b[0m (2.07 MB)\n"
            ],
            "text/html": [
              "<pre style=\"white-space:pre;overflow-x:auto;line-height:normal;font-family:Menlo,'DejaVu Sans Mono',consolas,'Courier New',monospace\"><span style=\"font-weight: bold\"> Trainable params: </span><span style=\"color: #00af00; text-decoration-color: #00af00\">543,937</span> (2.07 MB)\n",
              "</pre>\n"
            ]
          },
          "metadata": {}
        },
        {
          "output_type": "display_data",
          "data": {
            "text/plain": [
              "\u001b[1m Non-trainable params: \u001b[0m\u001b[38;5;34m0\u001b[0m (0.00 B)\n"
            ],
            "text/html": [
              "<pre style=\"white-space:pre;overflow-x:auto;line-height:normal;font-family:Menlo,'DejaVu Sans Mono',consolas,'Courier New',monospace\"><span style=\"font-weight: bold\"> Non-trainable params: </span><span style=\"color: #00af00; text-decoration-color: #00af00\">0</span> (0.00 B)\n",
              "</pre>\n"
            ]
          },
          "metadata": {}
        }
      ]
    },
    {
      "cell_type": "code",
      "source": [
        "model.compile(loss='binary_crossentropy', optimizer='rmsprop', metrics=['acc'])\n",
        "\n",
        "train_images = train_images.astype('float32')/255\n",
        "test_images = test_images.astype('float32')/255"
      ],
      "metadata": {
        "id": "fnbKyyyVsAQQ"
      },
      "execution_count": null,
      "outputs": []
    },
    {
      "cell_type": "code",
      "source": [
        "# 0~1 사이의 값인지 확인\n",
        "#train_images"
      ],
      "metadata": {
        "id": "03-QE9GaIhX7"
      },
      "execution_count": null,
      "outputs": []
    },
    {
      "cell_type": "code",
      "source": [
        "train_labels = np.array(train_labels)\n",
        "test_labels = np.array(test_labels)"
      ],
      "metadata": {
        "id": "vIUv5TRKIjnp"
      },
      "execution_count": null,
      "outputs": []
    },
    {
      "cell_type": "code",
      "source": [
        "history = model.fit(train_images, train_labels, epochs=50, batch_size=128, validation_data=(test_images, test_labels))"
      ],
      "metadata": {
        "colab": {
          "base_uri": "https://localhost:8080/"
        },
        "id": "lyDoQMt8I1Qt",
        "outputId": "3b863783-e2e8-4978-8acc-2e65f8b6455e"
      },
      "execution_count": null,
      "outputs": [
        {
          "output_type": "stream",
          "name": "stdout",
          "text": [
            "Epoch 1/50\n",
            "\u001b[1m1/1\u001b[0m \u001b[32m━━━━━━━━━━━━━━━━━━━━\u001b[0m\u001b[37m\u001b[0m \u001b[1m0s\u001b[0m 240ms/step - acc: 0.6250 - loss: 0.6781 - val_acc: 0.5000 - val_loss: 0.7185\n",
            "Epoch 2/50\n",
            "\u001b[1m1/1\u001b[0m \u001b[32m━━━━━━━━━━━━━━━━━━━━\u001b[0m\u001b[37m\u001b[0m \u001b[1m0s\u001b[0m 230ms/step - acc: 0.7708 - loss: 0.6576 - val_acc: 0.3333 - val_loss: 0.7195\n",
            "Epoch 3/50\n",
            "\u001b[1m1/1\u001b[0m \u001b[32m━━━━━━━━━━━━━━━━━━━━\u001b[0m\u001b[37m\u001b[0m \u001b[1m0s\u001b[0m 306ms/step - acc: 0.6875 - loss: 0.6590 - val_acc: 0.4167 - val_loss: 0.7371\n",
            "Epoch 4/50\n",
            "\u001b[1m1/1\u001b[0m \u001b[32m━━━━━━━━━━━━━━━━━━━━\u001b[0m\u001b[37m\u001b[0m \u001b[1m0s\u001b[0m 196ms/step - acc: 0.6667 - loss: 0.6361 - val_acc: 0.2500 - val_loss: 0.7299\n",
            "Epoch 5/50\n",
            "\u001b[1m1/1\u001b[0m \u001b[32m━━━━━━━━━━━━━━━━━━━━\u001b[0m\u001b[37m\u001b[0m \u001b[1m0s\u001b[0m 163ms/step - acc: 0.6250 - loss: 0.6498 - val_acc: 0.4167 - val_loss: 0.7744\n",
            "Epoch 6/50\n",
            "\u001b[1m1/1\u001b[0m \u001b[32m━━━━━━━━━━━━━━━━━━━━\u001b[0m\u001b[37m\u001b[0m \u001b[1m0s\u001b[0m 165ms/step - acc: 0.5417 - loss: 0.6353 - val_acc: 0.4167 - val_loss: 0.7461\n",
            "Epoch 7/50\n",
            "\u001b[1m1/1\u001b[0m \u001b[32m━━━━━━━━━━━━━━━━━━━━\u001b[0m\u001b[37m\u001b[0m \u001b[1m0s\u001b[0m 325ms/step - acc: 0.7292 - loss: 0.6232 - val_acc: 0.4167 - val_loss: 0.8015\n",
            "Epoch 8/50\n",
            "\u001b[1m1/1\u001b[0m \u001b[32m━━━━━━━━━━━━━━━━━━━━\u001b[0m\u001b[37m\u001b[0m \u001b[1m0s\u001b[0m 284ms/step - acc: 0.6875 - loss: 0.6006 - val_acc: 0.4167 - val_loss: 0.7721\n",
            "Epoch 9/50\n",
            "\u001b[1m1/1\u001b[0m \u001b[32m━━━━━━━━━━━━━━━━━━━━\u001b[0m\u001b[37m\u001b[0m \u001b[1m0s\u001b[0m 235ms/step - acc: 0.7292 - loss: 0.5772 - val_acc: 0.4167 - val_loss: 0.9135\n",
            "Epoch 10/50\n",
            "\u001b[1m1/1\u001b[0m \u001b[32m━━━━━━━━━━━━━━━━━━━━\u001b[0m\u001b[37m\u001b[0m \u001b[1m0s\u001b[0m 136ms/step - acc: 0.6250 - loss: 0.6102 - val_acc: 0.4167 - val_loss: 0.7893\n",
            "Epoch 11/50\n",
            "\u001b[1m1/1\u001b[0m \u001b[32m━━━━━━━━━━━━━━━━━━━━\u001b[0m\u001b[37m\u001b[0m \u001b[1m0s\u001b[0m 104ms/step - acc: 0.6250 - loss: 0.6219 - val_acc: 0.4167 - val_loss: 0.7880\n",
            "Epoch 12/50\n",
            "\u001b[1m1/1\u001b[0m \u001b[32m━━━━━━━━━━━━━━━━━━━━\u001b[0m\u001b[37m\u001b[0m \u001b[1m0s\u001b[0m 138ms/step - acc: 0.8542 - loss: 0.5722 - val_acc: 0.4167 - val_loss: 0.8206\n",
            "Epoch 13/50\n",
            "\u001b[1m1/1\u001b[0m \u001b[32m━━━━━━━━━━━━━━━━━━━━\u001b[0m\u001b[37m\u001b[0m \u001b[1m0s\u001b[0m 111ms/step - acc: 0.8542 - loss: 0.5175 - val_acc: 0.5000 - val_loss: 0.8934\n",
            "Epoch 14/50\n",
            "\u001b[1m1/1\u001b[0m \u001b[32m━━━━━━━━━━━━━━━━━━━━\u001b[0m\u001b[37m\u001b[0m \u001b[1m0s\u001b[0m 149ms/step - acc: 0.8333 - loss: 0.5016 - val_acc: 0.4167 - val_loss: 0.8803\n",
            "Epoch 15/50\n",
            "\u001b[1m1/1\u001b[0m \u001b[32m━━━━━━━━━━━━━━━━━━━━\u001b[0m\u001b[37m\u001b[0m \u001b[1m0s\u001b[0m 115ms/step - acc: 0.7917 - loss: 0.5080 - val_acc: 0.5000 - val_loss: 1.1662\n",
            "Epoch 16/50\n",
            "\u001b[1m1/1\u001b[0m \u001b[32m━━━━━━━━━━━━━━━━━━━━\u001b[0m\u001b[37m\u001b[0m \u001b[1m0s\u001b[0m 108ms/step - acc: 0.5208 - loss: 0.6544 - val_acc: 0.4167 - val_loss: 0.8117\n",
            "Epoch 17/50\n",
            "\u001b[1m1/1\u001b[0m \u001b[32m━━━━━━━━━━━━━━━━━━━━\u001b[0m\u001b[37m\u001b[0m \u001b[1m0s\u001b[0m 104ms/step - acc: 0.6667 - loss: 0.5764 - val_acc: 0.4167 - val_loss: 0.8412\n",
            "Epoch 18/50\n",
            "\u001b[1m1/1\u001b[0m \u001b[32m━━━━━━━━━━━━━━━━━━━━\u001b[0m\u001b[37m\u001b[0m \u001b[1m0s\u001b[0m 140ms/step - acc: 0.8542 - loss: 0.4967 - val_acc: 0.4167 - val_loss: 0.9180\n",
            "Epoch 19/50\n",
            "\u001b[1m1/1\u001b[0m \u001b[32m━━━━━━━━━━━━━━━━━━━━\u001b[0m\u001b[37m\u001b[0m \u001b[1m0s\u001b[0m 105ms/step - acc: 0.9375 - loss: 0.4379 - val_acc: 0.4167 - val_loss: 0.9735\n",
            "Epoch 20/50\n",
            "\u001b[1m1/1\u001b[0m \u001b[32m━━━━━━━━━━━━━━━━━━━━\u001b[0m\u001b[37m\u001b[0m \u001b[1m0s\u001b[0m 138ms/step - acc: 0.8958 - loss: 0.4006 - val_acc: 0.4167 - val_loss: 1.0236\n",
            "Epoch 21/50\n",
            "\u001b[1m1/1\u001b[0m \u001b[32m━━━━━━━━━━━━━━━━━━━━\u001b[0m\u001b[37m\u001b[0m \u001b[1m0s\u001b[0m 148ms/step - acc: 0.8750 - loss: 0.3830 - val_acc: 0.5000 - val_loss: 1.0955\n",
            "Epoch 22/50\n",
            "\u001b[1m1/1\u001b[0m \u001b[32m━━━━━━━━━━━━━━━━━━━━\u001b[0m\u001b[37m\u001b[0m \u001b[1m0s\u001b[0m 123ms/step - acc: 0.8958 - loss: 0.3644 - val_acc: 0.5000 - val_loss: 1.0680\n",
            "Epoch 23/50\n",
            "\u001b[1m1/1\u001b[0m \u001b[32m━━━━━━━━━━━━━━━━━━━━\u001b[0m\u001b[37m\u001b[0m \u001b[1m0s\u001b[0m 125ms/step - acc: 0.6875 - loss: 0.5029 - val_acc: 0.5000 - val_loss: 1.2450\n",
            "Epoch 24/50\n",
            "\u001b[1m1/1\u001b[0m \u001b[32m━━━━━━━━━━━━━━━━━━━━\u001b[0m\u001b[37m\u001b[0m \u001b[1m0s\u001b[0m 107ms/step - acc: 0.5208 - loss: 0.5879 - val_acc: 0.4167 - val_loss: 0.8437\n",
            "Epoch 25/50\n",
            "\u001b[1m1/1\u001b[0m \u001b[32m━━━━━━━━━━━━━━━━━━━━\u001b[0m\u001b[37m\u001b[0m \u001b[1m0s\u001b[0m 105ms/step - acc: 0.9375 - loss: 0.4568 - val_acc: 0.4167 - val_loss: 0.9986\n",
            "Epoch 26/50\n",
            "\u001b[1m1/1\u001b[0m \u001b[32m━━━━━━━━━━━━━━━━━━━━\u001b[0m\u001b[37m\u001b[0m \u001b[1m0s\u001b[0m 111ms/step - acc: 0.8958 - loss: 0.3770 - val_acc: 0.4167 - val_loss: 1.0646\n",
            "Epoch 27/50\n",
            "\u001b[1m1/1\u001b[0m \u001b[32m━━━━━━━━━━━━━━━━━━━━\u001b[0m\u001b[37m\u001b[0m \u001b[1m0s\u001b[0m 132ms/step - acc: 0.9375 - loss: 0.3294 - val_acc: 0.4167 - val_loss: 1.1512\n",
            "Epoch 28/50\n",
            "\u001b[1m1/1\u001b[0m \u001b[32m━━━━━━━━━━━━━━━━━━━━\u001b[0m\u001b[37m\u001b[0m \u001b[1m0s\u001b[0m 104ms/step - acc: 0.8958 - loss: 0.3124 - val_acc: 0.4167 - val_loss: 1.1974\n",
            "Epoch 29/50\n",
            "\u001b[1m1/1\u001b[0m \u001b[32m━━━━━━━━━━━━━━━━━━━━\u001b[0m\u001b[37m\u001b[0m \u001b[1m0s\u001b[0m 108ms/step - acc: 0.9375 - loss: 0.2803 - val_acc: 0.4167 - val_loss: 1.2133\n",
            "Epoch 30/50\n",
            "\u001b[1m1/1\u001b[0m \u001b[32m━━━━━━━━━━━━━━━━━━━━\u001b[0m\u001b[37m\u001b[0m \u001b[1m0s\u001b[0m 130ms/step - acc: 0.9583 - loss: 0.2692 - val_acc: 0.5833 - val_loss: 1.3750\n",
            "Epoch 31/50\n",
            "\u001b[1m1/1\u001b[0m \u001b[32m━━━━━━━━━━━━━━━━━━━━\u001b[0m\u001b[37m\u001b[0m \u001b[1m0s\u001b[0m 109ms/step - acc: 0.9583 - loss: 0.2475 - val_acc: 0.3333 - val_loss: 1.2277\n",
            "Epoch 32/50\n",
            "\u001b[1m1/1\u001b[0m \u001b[32m━━━━━━━━━━━━━━━━━━━━\u001b[0m\u001b[37m\u001b[0m \u001b[1m0s\u001b[0m 121ms/step - acc: 0.8750 - loss: 0.3294 - val_acc: 0.4167 - val_loss: 1.6276\n",
            "Epoch 33/50\n",
            "\u001b[1m1/1\u001b[0m \u001b[32m━━━━━━━━━━━━━━━━━━━━\u001b[0m\u001b[37m\u001b[0m \u001b[1m0s\u001b[0m 119ms/step - acc: 0.7292 - loss: 0.4544 - val_acc: 0.3333 - val_loss: 0.9359\n",
            "Epoch 34/50\n",
            "\u001b[1m1/1\u001b[0m \u001b[32m━━━━━━━━━━━━━━━━━━━━\u001b[0m\u001b[37m\u001b[0m \u001b[1m0s\u001b[0m 142ms/step - acc: 0.9375 - loss: 0.3496 - val_acc: 0.4167 - val_loss: 1.1699\n",
            "Epoch 35/50\n",
            "\u001b[1m1/1\u001b[0m \u001b[32m━━━━━━━━━━━━━━━━━━━━\u001b[0m\u001b[37m\u001b[0m \u001b[1m0s\u001b[0m 137ms/step - acc: 0.9583 - loss: 0.2334 - val_acc: 0.4167 - val_loss: 1.3468\n",
            "Epoch 36/50\n",
            "\u001b[1m1/1\u001b[0m \u001b[32m━━━━━━━━━━━━━━━━━━━━\u001b[0m\u001b[37m\u001b[0m \u001b[1m0s\u001b[0m 107ms/step - acc: 0.9792 - loss: 0.1939 - val_acc: 0.3333 - val_loss: 1.3871\n",
            "Epoch 37/50\n",
            "\u001b[1m1/1\u001b[0m \u001b[32m━━━━━━━━━━━━━━━━━━━━\u001b[0m\u001b[37m\u001b[0m \u001b[1m0s\u001b[0m 110ms/step - acc: 0.9583 - loss: 0.1918 - val_acc: 0.5833 - val_loss: 1.6218\n",
            "Epoch 38/50\n",
            "\u001b[1m1/1\u001b[0m \u001b[32m━━━━━━━━━━━━━━━━━━━━\u001b[0m\u001b[37m\u001b[0m \u001b[1m0s\u001b[0m 135ms/step - acc: 0.9375 - loss: 0.2048 - val_acc: 0.3333 - val_loss: 1.3638\n",
            "Epoch 39/50\n",
            "\u001b[1m1/1\u001b[0m \u001b[32m━━━━━━━━━━━━━━━━━━━━\u001b[0m\u001b[37m\u001b[0m \u001b[1m0s\u001b[0m 103ms/step - acc: 0.8750 - loss: 0.2751 - val_acc: 0.5833 - val_loss: 1.4762\n",
            "Epoch 40/50\n",
            "\u001b[1m1/1\u001b[0m \u001b[32m━━━━━━━━━━━━━━━━━━━━\u001b[0m\u001b[37m\u001b[0m \u001b[1m0s\u001b[0m 143ms/step - acc: 0.9583 - loss: 0.2276 - val_acc: 0.3333 - val_loss: 1.3519\n",
            "Epoch 41/50\n",
            "\u001b[1m1/1\u001b[0m \u001b[32m━━━━━━━━━━━━━━━━━━━━\u001b[0m\u001b[37m\u001b[0m \u001b[1m0s\u001b[0m 134ms/step - acc: 0.9792 - loss: 0.1744 - val_acc: 0.5833 - val_loss: 1.5469\n",
            "Epoch 42/50\n",
            "\u001b[1m1/1\u001b[0m \u001b[32m━━━━━━━━━━━━━━━━━━━━\u001b[0m\u001b[37m\u001b[0m \u001b[1m0s\u001b[0m 105ms/step - acc: 1.0000 - loss: 0.1367 - val_acc: 0.3333 - val_loss: 1.5273\n",
            "Epoch 43/50\n",
            "\u001b[1m1/1\u001b[0m \u001b[32m━━━━━━━━━━━━━━━━━━━━\u001b[0m\u001b[37m\u001b[0m \u001b[1m0s\u001b[0m 138ms/step - acc: 0.9792 - loss: 0.1389 - val_acc: 0.5833 - val_loss: 1.7610\n",
            "Epoch 44/50\n",
            "\u001b[1m1/1\u001b[0m \u001b[32m━━━━━━━━━━━━━━━━━━━━\u001b[0m\u001b[37m\u001b[0m \u001b[1m0s\u001b[0m 106ms/step - acc: 1.0000 - loss: 0.1135 - val_acc: 0.3333 - val_loss: 1.5893\n",
            "Epoch 45/50\n",
            "\u001b[1m1/1\u001b[0m \u001b[32m━━━━━━━━━━━━━━━━━━━━\u001b[0m\u001b[37m\u001b[0m \u001b[1m0s\u001b[0m 114ms/step - acc: 0.9792 - loss: 0.1226 - val_acc: 0.5833 - val_loss: 1.9217\n",
            "Epoch 46/50\n",
            "\u001b[1m1/1\u001b[0m \u001b[32m━━━━━━━━━━━━━━━━━━━━\u001b[0m\u001b[37m\u001b[0m \u001b[1m0s\u001b[0m 135ms/step - acc: 1.0000 - loss: 0.1410 - val_acc: 0.3333 - val_loss: 1.5962\n",
            "Epoch 47/50\n",
            "\u001b[1m1/1\u001b[0m \u001b[32m━━━━━━━━━━━━━━━━━━━━\u001b[0m\u001b[37m\u001b[0m \u001b[1m0s\u001b[0m 127ms/step - acc: 0.9375 - loss: 0.1645 - val_acc: 0.5833 - val_loss: 1.7156\n",
            "Epoch 48/50\n",
            "\u001b[1m1/1\u001b[0m \u001b[32m━━━━━━━━━━━━━━━━━━━━\u001b[0m\u001b[37m\u001b[0m \u001b[1m0s\u001b[0m 140ms/step - acc: 1.0000 - loss: 0.1441 - val_acc: 0.3333 - val_loss: 1.6940\n",
            "Epoch 49/50\n",
            "\u001b[1m1/1\u001b[0m \u001b[32m━━━━━━━━━━━━━━━━━━━━\u001b[0m\u001b[37m\u001b[0m \u001b[1m0s\u001b[0m 136ms/step - acc: 1.0000 - loss: 0.0939 - val_acc: 0.5833 - val_loss: 1.9130\n",
            "Epoch 50/50\n",
            "\u001b[1m1/1\u001b[0m \u001b[32m━━━━━━━━━━━━━━━━━━━━\u001b[0m\u001b[37m\u001b[0m \u001b[1m0s\u001b[0m 109ms/step - acc: 1.0000 - loss: 0.0708 - val_acc: 0.3333 - val_loss: 1.9573\n"
          ]
        }
      ]
    },
    {
      "cell_type": "code",
      "source": [
        "print(\"Test Data Accuracy:\", model.evaluate(test_images, test_labels))"
      ],
      "metadata": {
        "colab": {
          "base_uri": "https://localhost:8080/"
        },
        "id": "N6S4oSAUJK9V",
        "outputId": "24451fc6-87e8-49be-f081-3bb99bd2b86e"
      },
      "execution_count": null,
      "outputs": [
        {
          "output_type": "stream",
          "name": "stdout",
          "text": [
            "\u001b[1m1/1\u001b[0m \u001b[32m━━━━━━━━━━━━━━━━━━━━\u001b[0m\u001b[37m\u001b[0m \u001b[1m0s\u001b[0m 32ms/step - acc: 0.3333 - loss: 1.9573\n",
            "Test Data Accuracy: [1.9572569131851196, 0.3333333432674408]\n"
          ]
        }
      ]
    },
    {
      "cell_type": "code",
      "source": [
        "model.predict(test_images)"
      ],
      "metadata": {
        "colab": {
          "base_uri": "https://localhost:8080/"
        },
        "id": "7bpqSzm8JtUZ",
        "outputId": "3c0fad82-3d19-4336-8203-aa17d1b9836a"
      },
      "execution_count": null,
      "outputs": [
        {
          "output_type": "stream",
          "name": "stdout",
          "text": [
            "\u001b[1m1/1\u001b[0m \u001b[32m━━━━━━━━━━━━━━━━━━━━\u001b[0m\u001b[37m\u001b[0m \u001b[1m0s\u001b[0m 198ms/step\n"
          ]
        },
        {
          "output_type": "execute_result",
          "data": {
            "text/plain": [
              "array([[1.0091722e-01],\n",
              "       [9.5480454e-01],\n",
              "       [5.7761246e-01],\n",
              "       [5.9379241e-03],\n",
              "       [6.0974741e-01],\n",
              "       [9.5107514e-01],\n",
              "       [2.7609743e-02],\n",
              "       [8.6877029e-04],\n",
              "       [5.0972766e-01],\n",
              "       [9.3503308e-01],\n",
              "       [4.6457341e-03],\n",
              "       [7.5666264e-02]], dtype=float32)"
            ]
          },
          "metadata": {},
          "execution_count": 56
        }
      ]
    },
    {
      "cell_type": "code",
      "source": [
        "acc = history.history['acc']\n",
        "val_acc = history.history['val_acc']\n",
        "loss = history.history['loss']\n",
        "val_loss = history.history['val_loss']\n",
        "\n",
        "print('Validation Accuracy of each epoch:',acc)\n",
        "print()\n",
        "print('Validation Loss of each epoch:',val_acc)"
      ],
      "metadata": {
        "colab": {
          "base_uri": "https://localhost:8080/"
        },
        "id": "O1but0SeMjxd",
        "outputId": "f7ab92bc-012a-4723-b247-c71edd55d4f9"
      },
      "execution_count": null,
      "outputs": [
        {
          "output_type": "stream",
          "name": "stdout",
          "text": [
            "Validation Accuracy of each epoch: [0.625, 0.7708333134651184, 0.6875, 0.6666666865348816, 0.625, 0.5416666865348816, 0.7291666865348816, 0.6875, 0.7291666865348816, 0.625, 0.625, 0.8541666865348816, 0.8541666865348816, 0.8333333134651184, 0.7916666865348816, 0.5208333134651184, 0.6666666865348816, 0.8541666865348816, 0.9375, 0.8958333134651184, 0.875, 0.8958333134651184, 0.6875, 0.5208333134651184, 0.9375, 0.8958333134651184, 0.9375, 0.8958333134651184, 0.9375, 0.9583333134651184, 0.9583333134651184, 0.875, 0.7291666865348816, 0.9375, 0.9583333134651184, 0.9791666865348816, 0.9583333134651184, 0.9375, 0.875, 0.9583333134651184, 0.9791666865348816, 1.0, 0.9791666865348816, 1.0, 0.9791666865348816, 1.0, 0.9375, 1.0, 1.0, 1.0]\n",
            "\n",
            "Validation Loss of each epoch: [0.5, 0.3333333432674408, 0.4166666567325592, 0.25, 0.4166666567325592, 0.4166666567325592, 0.4166666567325592, 0.4166666567325592, 0.4166666567325592, 0.4166666567325592, 0.4166666567325592, 0.4166666567325592, 0.5, 0.4166666567325592, 0.5, 0.4166666567325592, 0.4166666567325592, 0.4166666567325592, 0.4166666567325592, 0.4166666567325592, 0.5, 0.5, 0.5, 0.4166666567325592, 0.4166666567325592, 0.4166666567325592, 0.4166666567325592, 0.4166666567325592, 0.4166666567325592, 0.5833333134651184, 0.3333333432674408, 0.4166666567325592, 0.3333333432674408, 0.4166666567325592, 0.4166666567325592, 0.3333333432674408, 0.5833333134651184, 0.3333333432674408, 0.5833333134651184, 0.3333333432674408, 0.5833333134651184, 0.3333333432674408, 0.5833333134651184, 0.3333333432674408, 0.5833333134651184, 0.3333333432674408, 0.5833333134651184, 0.3333333432674408, 0.5833333134651184, 0.3333333432674408]\n"
          ]
        }
      ]
    },
    {
      "cell_type": "code",
      "source": [
        "print('Loss of each epoch:', np.round(loss, 3))\n",
        "print()\n",
        "print('Validation Loss of each epoch:', np.round(val_loss, 3))"
      ],
      "metadata": {
        "colab": {
          "base_uri": "https://localhost:8080/"
        },
        "id": "1g2iRP_ES9IL",
        "outputId": "ce9aeff3-e603-4c66-aa00-45b69c0582a4"
      },
      "execution_count": null,
      "outputs": [
        {
          "output_type": "stream",
          "name": "stdout",
          "text": [
            "Loss of each epoch: [0.678 0.658 0.659 0.636 0.65  0.635 0.623 0.601 0.577 0.61  0.622 0.572 0.518 0.502 0.508 0.654 0.576 0.497 0.438 0.401 0.383 0.364 0.503 0.588 0.457 0.377 0.329 0.312 0.28  0.269 0.247 0.329 0.454 0.35  0.233 0.194 0.192 0.205 0.275 0.228 0.174 0.137 0.139 0.113 0.123 0.141 0.165 0.144 0.094 0.071]\n",
            "\n",
            "Validation Loss of each epoch: [0.719 0.72  0.737 0.73  0.774 0.746 0.802 0.772 0.914 0.789 0.788 0.821 0.893 0.88  1.166 0.812 0.841 0.918 0.973 1.024 1.095 1.068 1.245 0.844 0.999 1.065 1.151 1.197 1.213 1.375 1.228 1.628 0.936 1.17  1.347 1.387 1.622 1.364 1.476 1.352 1.547 1.527 1.761 1.589 1.922 1.596 1.716 1.694 1.913 1.957]\n"
          ]
        }
      ]
    },
    {
      "cell_type": "code",
      "source": [
        "import matplotlib.pyplot as plt\n",
        "epochs = range(1, len(acc) + 1)\n",
        "\n",
        "plt.plot(epochs, acc, 'bo', label='Training acc')\n",
        "plt.plot(epochs, val_acc, 'b', label='Validation acc')\n",
        "plt.title('Training and validation accuracy')\n",
        "plt.legend()\n",
        "plt.show()"
      ],
      "metadata": {
        "colab": {
          "base_uri": "https://localhost:8080/",
          "height": 452
        },
        "id": "JmnDhpqGTIsL",
        "outputId": "6e98db9d-d3bc-4ba6-993e-f0e026438244"
      },
      "execution_count": null,
      "outputs": [
        {
          "output_type": "display_data",
          "data": {
            "text/plain": [
              "<Figure size 640x480 with 1 Axes>"
            ],
            "image/png": "[encoded data removed]"
          },
          "metadata": {}
        }
      ]
    },
    {
      "cell_type": "code",
      "source": [
        "plt.figure()\n",
        "plt.plot(epochs, loss, 'bo', label='Training loss')\n",
        "plt.plot(epochs, val_loss, 'b', label='Validation loss')\n",
        "plt.title('Training and validation loss')\n",
        "plt.legend()\n",
        "plt.show;"
      ],
      "metadata": {
        "colab": {
          "base_uri": "https://localhost:8080/",
          "height": 452
        },
        "id": "65EvEJHSTyyJ",
        "outputId": "34ecba1f-60b1-488f-c551-8f2ed07c8df3"
      },
      "execution_count": null,
      "outputs": [
        {
          "output_type": "display_data",
          "data": {
            "text/plain": [
              "<Figure size 640x480 with 1 Axes>"
            ],
            "image/png": "[encoded data removed]"
          },
          "metadata": {}
        }
      ]
    },
    {
      "cell_type": "code",
      "source": [],
      "metadata": {
        "id": "MHoaBQIoT53U"
      },
      "execution_count": null,
      "outputs": []
    }
  ]
}