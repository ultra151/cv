{
  "nbformat": 4,
  "nbformat_minor": 0,
  "metadata": {
    "colab": {
      "provenance": [],
      "authorship_tag": "ABX9TyNBZM3OvYSYy3Fz0L//SRos",
      "include_colab_link": true
    },
    "kernelspec": {
      "name": "python3",
      "display_name": "Python 3"
    },
    "language_info": {
      "name": "python"
    }
  },
  "cells": [
    {
      "cell_type": "markdown",
      "metadata": {
        "id": "view-in-github",
        "colab_type": "text"
      },
      "source": [
        "<a href=\"https://colab.research.google.com/github/ultra151/cv/blob/main/7_HuggingFace_%EC%82%AC%EC%A0%84%ED%95%99%EC%8A%B5%EB%AA%A8%EB%8D%B8.ipynb\" target=\"_parent\"><img src=\"https://colab.research.google.com/assets/colab-badge.svg\" alt=\"Open In Colab\"/></a>"
      ]
    },
    {
      "cell_type": "code",
      "execution_count": null,
      "metadata": {
        "id": "Fs6MyKHS9yTi"
      },
      "outputs": [],
      "source": [
        "!pip install transformers torchvision"
      ]
    },
    {
      "cell_type": "code",
      "source": [
        "from google.colab import drive\n",
        "drive.mount('/content/gdrive')"
      ],
      "metadata": {
        "id": "SfjN67TDBrrX"
      },
      "execution_count": null,
      "outputs": []
    },
    {
      "cell_type": "code",
      "source": [
        "from IPython.display import Image as _imgdis\n",
        "from IPython.display import display\n",
        "from PIL import Image\n"
      ],
      "metadata": {
        "id": "BNt7ZtFWB17v"
      },
      "execution_count": null,
      "outputs": []
    },
    {
      "cell_type": "code",
      "source": [
        "path = '/content/gdrive/MyDrive/pytest_img/opencv/pen_coffee.png'\n",
        "display(_imgdis(filename=path, width=600, height=400))"
      ],
      "metadata": {
        "id": "WBb1d10gCVeD"
      },
      "execution_count": null,
      "outputs": []
    },
    {
      "cell_type": "code",
      "source": [
        "from transformers import pipeline\n",
        "from keras.preprocessing.image import array_to_img, img_to_array, load_img\n",
        "\n",
        "image = load_img(path)\n",
        "classfier = pipeline('image-classification')\n",
        "results = classfier(image)\n",
        "print(results)"
      ],
      "metadata": {
        "id": "D5GspIwKCybC"
      },
      "execution_count": null,
      "outputs": []
    },
    {
      "cell_type": "code",
      "source": [
        "import pandas as pd\n",
        "results_df = pd.DataFrame(results)\n",
        "print(results_df)"
      ],
      "metadata": {
        "id": "ztOnfIhZDa1R"
      },
      "execution_count": null,
      "outputs": []
    },
    {
      "cell_type": "code",
      "source": [
        "from transformers import BeitImageProcessor, BeitForImageClassification\n",
        "from PIL import Image\n",
        "import requests\n",
        "\n",
        "processor = BeitImageProcessor.from_pretrained('microsoft/beit-base-patch16-224-pt22k-ft22k')\n",
        "model = BeitForImageClassification.from_pretrained('microsoft/beit-base-patch16-224-pt22k-ft22k')\n",
        "\n",
        "inputs = processor(images=image, return_tensors=\"pt\")\n",
        "outputs = model(**inputs)\n",
        "logits = outputs.logits\n",
        "\n",
        "predicted_class_idx = logits.argmax(-1).item()\n",
        "print(\"Predicted class:\", model.config.id2label[predicted_class_idx])"
      ],
      "metadata": {
        "id": "6-Bw1yJUEwZZ"
      },
      "execution_count": null,
      "outputs": []
    },
    {
      "cell_type": "code",
      "source": [
        "from transformers import Pipeline\n",
        "from keras.preprocessing.image import array_to_img, img_to_array, load_img\n",
        "\n",
        "image = load_img(path)\n",
        "classfier = pipeline(model='julien-c/hotdog-not-hotdog')\n",
        "results = classfier(image)\n",
        "print(results)"
      ],
      "metadata": {
        "id": "I-71Vqi6HrgM"
      },
      "execution_count": null,
      "outputs": []
    },
    {
      "cell_type": "code",
      "source": [
        "import pandas as pd\n",
        "results_df = pd.DataFrame(results)\n",
        "print(results_df)"
      ],
      "metadata": {
        "id": "PLLonsXtOtqJ"
      },
      "execution_count": null,
      "outputs": []
    },
    {
      "cell_type": "code",
      "source": [
        "!pip install timm"
      ],
      "metadata": {
        "id": "yqa9UcKqO2p6"
      },
      "execution_count": null,
      "outputs": []
    },
    {
      "cell_type": "code",
      "source": [
        "from IPython.display import Image as _imgdis\n",
        "from IPython.display import display\n",
        "from PIL import Image\n",
        "\n",
        "path = '/content/gdrive/MyDrive/pytest_img/opencv/pen_coffee.png'\n",
        "display(_imgdis(filename=path, width=600, height=400))"
      ],
      "metadata": {
        "id": "YPi5UpGZQWgm"
      },
      "execution_count": null,
      "outputs": []
    },
    {
      "cell_type": "code",
      "source": [
        "from transformers import pipeline\n",
        "from keras.preprocessing.image import array_to_img, img_to_array, load_img\n",
        "\n",
        "image = load_img(path)\n",
        "detector = pipeline('object-detection')\n",
        "results = detector(image)\n",
        "print(results)"
      ],
      "metadata": {
        "id": "GUdBAdCdRhUZ"
      },
      "execution_count": null,
      "outputs": []
    },
    {
      "cell_type": "code",
      "source": [
        "import pandas as pd\n",
        "results_df = pd.DataFrame(results)\n",
        "print(results_df)"
      ],
      "metadata": {
        "id": "EwwP3gZuR25G"
      },
      "execution_count": null,
      "outputs": []
    },
    {
      "cell_type": "code",
      "source": [
        "from transformers import pipeline\n",
        "from keras.preprocessing.image import array_to_img, img_to_array, load_img\n",
        "\n",
        "image = load_img(path)\n",
        "\n",
        "segmer = pipeline('image-segmentation')\n",
        "results = segmer(image)\n",
        "print(results)"
      ],
      "metadata": {
        "id": "ZCMackGMSI2w"
      },
      "execution_count": null,
      "outputs": []
    },
    {
      "cell_type": "code",
      "source": [
        "import pandas as pd\n",
        "pd.set_option('display.max_colwidth', None)\n",
        "results_df = pd.DataFrame(results)\n",
        "print(results_df)"
      ],
      "metadata": {
        "id": "BBxAEtL8SWqu"
      },
      "execution_count": null,
      "outputs": []
    },
    {
      "cell_type": "code",
      "source": [
        "print(results_df.iloc[0][0])\n",
        "print(results_df.iloc[0][1])\n",
        "print(results_df.iloc[0][2])"
      ],
      "metadata": {
        "id": "Wrxe574CSwJD"
      },
      "execution_count": null,
      "outputs": []
    },
    {
      "cell_type": "code",
      "source": [
        "!pip install transformers"
      ],
      "metadata": {
        "id": "wCTjjliZTJMG"
      },
      "execution_count": null,
      "outputs": []
    },
    {
      "cell_type": "code",
      "source": [
        "from PIL import Image\n",
        "\n",
        "file = '/content/gdrive/MyDrive/pytest_img/cats_dogs/cat.6.jpg'\n",
        "image = Image.open(file)\n",
        "image"
      ],
      "metadata": {
        "id": "FB-pXTEdXcYT"
      },
      "execution_count": null,
      "outputs": []
    },
    {
      "cell_type": "code",
      "source": [
        "from transformers import CLIPProcessor, CLIPModel\n",
        "\n",
        "model = CLIPModel.from_pretrained(\"openai/clip-vit-base-patch32\")\n",
        "processor = CLIPProcessor.from_pretrained(\"openai/clip-vit-base-patch32\")"
      ],
      "metadata": {
        "id": "biTAbv6ZX8oZ"
      },
      "execution_count": null,
      "outputs": []
    },
    {
      "cell_type": "code",
      "source": [
        "candidates = ['a cat is eating a meal', 'a photo of a cat', 'a photo of a dog', 'a cat is lying with woman',\n",
        "              'a cat is lying with woman on the bed']\n",
        "\n",
        "inputs = processor(text=candidates, images=image, return_tensors=\"pt\", padding=True)\n"
      ],
      "metadata": {
        "id": "rYcnq2GEX8cq"
      },
      "execution_count": null,
      "outputs": []
    },
    {
      "cell_type": "code",
      "source": [
        "model.eval()\n",
        "outputs = model(**inputs)\n",
        "outputs.keys()"
      ],
      "metadata": {
        "id": "pdDo1IkWX8Cf"
      },
      "execution_count": null,
      "outputs": []
    },
    {
      "cell_type": "code",
      "source": [
        "logits_per_image = outputs.logits_per_image\n",
        "print(logits_per_image)"
      ],
      "metadata": {
        "id": "A4PZb1pCgZKf"
      },
      "execution_count": null,
      "outputs": []
    },
    {
      "cell_type": "code",
      "source": [
        "import torch\n",
        "probs = logits_per_image.softmax(dim=1)\n",
        "print(candidates[torch.argmax(probs).item()])"
      ],
      "metadata": {
        "id": "IzNw4qengZr9"
      },
      "execution_count": null,
      "outputs": []
    },
    {
      "cell_type": "code",
      "source": [
        "logits_per_image.sum()"
      ],
      "metadata": {
        "id": "_8epRmrogZm1"
      },
      "execution_count": null,
      "outputs": []
    },
    {
      "cell_type": "code",
      "source": [
        "probs"
      ],
      "metadata": {
        "id": "p20f-o0QgZby"
      },
      "execution_count": null,
      "outputs": []
    },
    {
      "cell_type": "code",
      "source": [],
      "metadata": {
        "id": "6-PtfAqbjCOB"
      },
      "execution_count": null,
      "outputs": []
    }
  ]
}