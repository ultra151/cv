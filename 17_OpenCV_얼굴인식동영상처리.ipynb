{
  "nbformat": 4,
  "nbformat_minor": 0,
  "metadata": {
    "colab": {
      "provenance": [],
      "authorship_tag": "ABX9TyPWFNkIo7o48RsiRUm58G2M",
      "include_colab_link": true
    },
    "kernelspec": {
      "name": "python3",
      "display_name": "Python 3"
    },
    "language_info": {
      "name": "python"
    }
  },
  "cells": [
    {
      "cell_type": "markdown",
      "metadata": {
        "id": "view-in-github",
        "colab_type": "text"
      },
      "source": [
        "<a href=\"https://colab.research.google.com/github/ultra151/cv/blob/main/17_OpenCV_%EC%96%BC%EA%B5%B4%EC%9D%B8%EC%8B%9D%EB%8F%99%EC%98%81%EC%83%81%EC%B2%98%EB%A6%AC.ipynb\" target=\"_parent\"><img src=\"https://colab.research.google.com/assets/colab-badge.svg\" alt=\"Open In Colab\"/></a>"
      ]
    },
    {
      "cell_type": "code",
      "execution_count": null,
      "metadata": {
        "colab": {
          "base_uri": "https://localhost:8080/"
        },
        "id": "V5n8KcqBTWJN",
        "outputId": "bd556b6e-e8eb-4699-de05-75af8bf49a75"
      },
      "outputs": [
        {
          "output_type": "stream",
          "name": "stdout",
          "text": [
            "Mounted at /content/gdrive\n",
            "/content/gdrive/MyDrive/pytest_img/opencv\n"
          ]
        }
      ],
      "source": [
        "from google.colab import drive\n",
        "drive.mount('/content/gdrive')\n",
        "\n",
        "%cd /content/gdrive/MyDrive/pytest_img/opencv/"
      ]
    },
    {
      "cell_type": "code",
      "source": [
        "import cv2\n",
        "import numpy as np\n",
        "import dlib\n",
        "import os\n",
        "\n",
        "seconds = 1\n",
        "\n",
        "video_path = '/content/gdrive/MyDrive/pytest_img/opencv/eye_opening.mp4'\n",
        "output_dir = '/content/gdrive/MyDrive/pytest_img/opencv/results'"
      ],
      "metadata": {
        "id": "wBFomJ1fT2UR"
      },
      "execution_count": null,
      "outputs": []
    },
    {
      "cell_type": "code",
      "source": [
        "detector = dlib.get_frontal_face_detector()\n",
        "sp = dlib.shape_predictor('/content/gdrive/MyDrive/pytest_img/dlib/shape_predictor_68_face_landmarks.dat')"
      ],
      "metadata": {
        "id": "STRbORQpVPB-"
      },
      "execution_count": null,
      "outputs": []
    },
    {
      "cell_type": "code",
      "source": [
        "RIGHT_EYE = list(range(36, 42))\n",
        "LEFT_EYE = list(range(42, 48))\n",
        "\n",
        "def eye_aspect_ratio(eye_points):\n",
        "    A = np.linalg.norm(eye_points[1] - eye_points[5])\n",
        "    B = np.linalg.norm(eye_points[2] - eye_points[4])\n",
        "    C = np.linalg.norm(eye_points[0] - eye_points[3])\n",
        "    EAR = (A + B) / (2.0 * C)\n",
        "    return EAR"
      ],
      "metadata": {
        "id": "rsLTU_hYWQ_x"
      },
      "execution_count": null,
      "outputs": []
    },
    {
      "cell_type": "code",
      "source": [
        "def predict(frame, predictor, LEFT_EYE, RIGHT_EYE):\n",
        "    gray = cv2.cvtColor(frame, cv2.COLOR_BGR2GRAY)\n",
        "    dets = detector(gray, 1)\n",
        "    for det in dets:\n",
        "        sp = predictor(gray, det)\n",
        "        points = np.array([[p.x, p.y] for p in sp.parts()])\n",
        "        left_eye_EAR = eye_aspect_ratio(points[LEFT_EYE])\n",
        "        right_eye_EAR = eye_aspect_ratio(points[RIGHT_EYE])\n",
        "\n",
        "        cv2.putText(frame, f\"{left_eye_EAR:.2f}\", (points[LEFT_EYE[1]][0], points[LEFT_EYE[1]][1]-1),\n",
        "                    cv2.FONT_HERSHEY_SIMPLEX, 1.5, (0,255,0),3)\n",
        "        cv2.putText(frame, f\"{right_eye_EAR:.2f}\", (points[RIGHT_EYE[1]][0], points[RIGHT_EYE[1]][1]-1),\n",
        "                    cv2.FONT_HERSHEY_SIMPLEX, 1.5, (0,255,0),3)\n",
        "    return frame\n"
      ],
      "metadata": {
        "id": "n7vJM4KJW1T6"
      },
      "execution_count": null,
      "outputs": []
    },
    {
      "cell_type": "code",
      "source": [
        "capture = cv2.VideoCapture(video_path)\n",
        "\n",
        "if capture.get(cv2.CAP_PROP_POS_FRAMES) == capture.get(cv2.CAP_PROP_FRAME_COUNT):\n",
        "    capture.set(cv2.CAP_PROP_POS_FRAMES, 0)\n",
        "\n",
        "fps = capture.get(cv2.CAP_PROP_FPS)\n",
        "total_frames = int(fps * seconds)\n",
        "print('total 프레임:', total_frames)\n",
        "\n",
        "if not os.path.exists(output_dir):\n",
        "    os.makedirs(output_dir)"
      ],
      "metadata": {
        "colab": {
          "base_uri": "https://localhost:8080/"
        },
        "id": "cPwyGtqVaDp6",
        "outputId": "1bd696fd-6289-4513-9521-5bd586511647"
      },
      "execution_count": null,
      "outputs": [
        {
          "output_type": "stream",
          "name": "stdout",
          "text": [
            "total 프레임: 25\n"
          ]
        }
      ]
    },
    {
      "cell_type": "code",
      "source": [
        "frame_count = 0\n",
        "while frame_count < total_frames:\n",
        "    ok, frame = capture.read()\n",
        "    if not ok:\n",
        "        print(\"프레임 읽기에 실패했습니다. 종료.\")\n",
        "        break\n",
        "\n",
        "    frame = predict(frame, sp, LEFT_EYE, RIGHT_EYE)\n",
        "    output_path = os.path.join(output_dir, f\"frame_{frame_count:04d}.jpg\")\n",
        "    cv2.imwrite(output_path, frame)\n",
        "    print(\"Saved to:\", output_path)\n",
        "    frame_count += 1\n",
        "    #key = cv2.waitKey(10)\n",
        "    #if key == ord('q'):\n",
        "    #    print('사용자가 종료를 요청했습니다.')\n",
        "    #    break\n",
        "\n",
        "capture.release()\n",
        "#cv2.destroyAllWindows()"
      ],
      "metadata": {
        "colab": {
          "base_uri": "https://localhost:8080/"
        },
        "id": "CuOB8qqPfzGi",
        "outputId": "0abe3864-998e-4350-81f8-649ba58e78bd"
      },
      "execution_count": null,
      "outputs": [
        {
          "output_type": "stream",
          "name": "stdout",
          "text": [
            "Saved to: /content/gdrive/MyDrive/pytest_img/opencv/results/frame_0000.jpg\n",
            "Saved to: /content/gdrive/MyDrive/pytest_img/opencv/results/frame_0001.jpg\n",
            "Saved to: /content/gdrive/MyDrive/pytest_img/opencv/results/frame_0002.jpg\n",
            "Saved to: /content/gdrive/MyDrive/pytest_img/opencv/results/frame_0003.jpg\n",
            "Saved to: /content/gdrive/MyDrive/pytest_img/opencv/results/frame_0004.jpg\n",
            "Saved to: /content/gdrive/MyDrive/pytest_img/opencv/results/frame_0005.jpg\n",
            "Saved to: /content/gdrive/MyDrive/pytest_img/opencv/results/frame_0006.jpg\n",
            "Saved to: /content/gdrive/MyDrive/pytest_img/opencv/results/frame_0007.jpg\n",
            "Saved to: /content/gdrive/MyDrive/pytest_img/opencv/results/frame_0008.jpg\n",
            "Saved to: /content/gdrive/MyDrive/pytest_img/opencv/results/frame_0009.jpg\n",
            "Saved to: /content/gdrive/MyDrive/pytest_img/opencv/results/frame_0010.jpg\n",
            "Saved to: /content/gdrive/MyDrive/pytest_img/opencv/results/frame_0011.jpg\n",
            "Saved to: /content/gdrive/MyDrive/pytest_img/opencv/results/frame_0012.jpg\n",
            "Saved to: /content/gdrive/MyDrive/pytest_img/opencv/results/frame_0013.jpg\n",
            "Saved to: /content/gdrive/MyDrive/pytest_img/opencv/results/frame_0014.jpg\n",
            "Saved to: /content/gdrive/MyDrive/pytest_img/opencv/results/frame_0015.jpg\n",
            "Saved to: /content/gdrive/MyDrive/pytest_img/opencv/results/frame_0016.jpg\n",
            "Saved to: /content/gdrive/MyDrive/pytest_img/opencv/results/frame_0017.jpg\n",
            "Saved to: /content/gdrive/MyDrive/pytest_img/opencv/results/frame_0018.jpg\n",
            "Saved to: /content/gdrive/MyDrive/pytest_img/opencv/results/frame_0019.jpg\n",
            "Saved to: /content/gdrive/MyDrive/pytest_img/opencv/results/frame_0020.jpg\n",
            "Saved to: /content/gdrive/MyDrive/pytest_img/opencv/results/frame_0021.jpg\n",
            "Saved to: /content/gdrive/MyDrive/pytest_img/opencv/results/frame_0022.jpg\n",
            "Saved to: /content/gdrive/MyDrive/pytest_img/opencv/results/frame_0023.jpg\n",
            "Saved to: /content/gdrive/MyDrive/pytest_img/opencv/results/frame_0024.jpg\n"
          ]
        }
      ]
    },
    {
      "cell_type": "code",
      "source": [
        "seconds = 1\n",
        "\n",
        "video_path = '/content/gdrive/MyDrive/pytest_img/opencv/eye_opening.mp4'\n",
        "output_dir = '/content/gdrive/MyDrive/pytest_img/opencv/results2'"
      ],
      "metadata": {
        "id": "rq_QgzXHhAWe"
      },
      "execution_count": null,
      "outputs": []
    },
    {
      "cell_type": "code",
      "source": [
        "age_list = ['(0-2)','(4-6)','(8-12)','(15-20)', '(25-32)','(38-43)','(48-53)','(60-100)']\n",
        "gender_list = ['Male','Female']"
      ],
      "metadata": {
        "id": "HoQrZ9U5jyxe"
      },
      "execution_count": null,
      "outputs": []
    },
    {
      "cell_type": "code",
      "source": [
        "detector = dlib.get_frontal_face_detector()\n",
        "detector = dlib.get_frontal_face_detector()\n",
        "age_detector = cv2.dnn.readNetFromCaffe('/content/gdrive/MyDrive/pytest_img/dlib/deploy_age.prototxt',\n",
        "                                        '/content/gdrive/MyDrive/pytest_img/dlib/age_net.caffemodel')\n",
        "gender_detector = cv2.dnn.readNetFromCaffe('/content/gdrive/MyDrive/pytest_img/dlib/deploy_gender.prototxt',\n",
        "                                           '/content/gdrive/MyDrive/pytest_img/dlib/gender_net.caffemodel')"
      ],
      "metadata": {
        "id": "q_x279ZZmorn"
      },
      "execution_count": null,
      "outputs": []
    },
    {
      "cell_type": "code",
      "source": [
        "capture = cv2.VideoCapture(video_path)\n",
        "if capture.get(cv2.CAP_PROP_POS_FRAMES) == capture.get(cv2.CAP_PROP_FRAME_COUNT):\n",
        "    capture.set(cv2.CAP_PROP_POS_FRAMES, 0)\n",
        "\n",
        "fps = capture.get(cv2.CAP_PROP_FPS)\n",
        "total_frames = int(fps * seconds)\n",
        "print('total 프레임:', total_frames)\n",
        "\n",
        "if not os.path.exists(output_dir):\n",
        "    os.makedirs(output_dir)"
      ],
      "metadata": {
        "colab": {
          "base_uri": "https://localhost:8080/"
        },
        "id": "ZD-8JzehnaMd",
        "outputId": "efb05d5d-9bd5-47f8-9502-541c9928ed6a"
      },
      "execution_count": null,
      "outputs": [
        {
          "output_type": "stream",
          "name": "stdout",
          "text": [
            "total 프레임: 25\n"
          ]
        }
      ]
    },
    {
      "cell_type": "code",
      "source": [
        "def predict(frame, detector, age_detector, gender_detector, age_list, gender_list):\n",
        "    gray = cv2.cvtColor(frame, cv2.COLOR_BGR2GRAY)\n",
        "    dets = detector(gray, 1)\n",
        "    for det in dets:\n",
        "        x1, y1, x2, y2 = det.left(), det.top(), det.right(), det.bottom()\n",
        "        face_img = frame[y1:y2, x1:x2].copy()\n",
        "        blob = cv2.dnn.blobFromImage(face_img, scalefactor=1, size=(227, 227),\n",
        "                                     mean=(78.4263377603, 87.7689143744, 114.895847746),swapRB=False)\n",
        "\n",
        "        age_detector.setInput(blob)\n",
        "        age_preds = age_detector.forward()\n",
        "        age = age_list[age_preds[0].argmax()]\n",
        "\n",
        "        gender_detector.setInput(blob)\n",
        "        gender_preds = gender_detector.forward()\n",
        "        gender = gender_list[gender_preds[0].argmax()]\n",
        "\n",
        "        cv2.rectangle(frame, (x1, y1), (x2, y2), (255, 255, 255), 2)\n",
        "        text = f\"{gender}, {age}\"\n",
        "        cv2.putText(frame, text, (x1, y1-10), cv2.FONT_HERSHEY_SIMPLEX, 1.5, (0, 0, 0), 10)\n",
        "        cv2.putText(frame, text, (x1, y1-10), cv2.FONT_HERSHEY_SIMPLEX, 1.5, (0, 255, 0), 3)\n",
        "    return frame"
      ],
      "metadata": {
        "id": "pGI4ELZGrczM"
      },
      "execution_count": null,
      "outputs": []
    },
    {
      "cell_type": "code",
      "source": [
        "fourcc = cv2.VideoWriter_fourcc(*'XVID')\n",
        "print(fourcc)\n",
        "out = cv2.VideoWriter(output_dir+'/output.avi', fourcc, 25.0, (int(capture.get(3)), int(capture.get(4))))"
      ],
      "metadata": {
        "colab": {
          "base_uri": "https://localhost:8080/"
        },
        "id": "1dyaBwwesPzF",
        "outputId": "22f92907-5f69-4923-fbd9-34813b106462"
      },
      "execution_count": null,
      "outputs": [
        {
          "output_type": "stream",
          "name": "stdout",
          "text": [
            "1145656920\n"
          ]
        }
      ]
    },
    {
      "cell_type": "code",
      "source": [
        "frame_count = 0\n",
        "while frame_count < total_frames:\n",
        "    ok, frame = capture.read()\n",
        "    if not ok:\n",
        "        print(\"프레임 읽기에 실패했습니다. 종료.\")\n",
        "        break\n",
        "\n",
        "    frame = predict(frame, detector, age_detector, gender_detector, age_list, gender_list)\n",
        "    out.write(frame)\n",
        "\n",
        "    output_path = os.path.join(output_dir, f\"frame_{frame_count:04d}.jpg\")\n",
        "    cv2.imwrite(output_path, frame)\n",
        "    print(\"Saved to:\", output_path)\n",
        "    frame_count += 1\n",
        "\n",
        "    #key = cv2.waitKey(10)\n",
        "    #if key == ord('q'):\n",
        "    #    print('사용자가 종료를 요청했습니다.')\n",
        "    #    break\n",
        "\n",
        "out.release()\n",
        "capture.release()\n",
        "#cv2.destroyAllWindows()"
      ],
      "metadata": {
        "colab": {
          "base_uri": "https://localhost:8080/"
        },
        "id": "DiVQZP5ntj9X",
        "outputId": "208d901e-0c9f-449c-e671-c60a750600b1"
      },
      "execution_count": null,
      "outputs": [
        {
          "output_type": "stream",
          "name": "stdout",
          "text": [
            "Saved to: /content/gdrive/MyDrive/pytest_img/opencv/results2/frame_0000.jpg\n",
            "Saved to: /content/gdrive/MyDrive/pytest_img/opencv/results2/frame_0001.jpg\n",
            "Saved to: /content/gdrive/MyDrive/pytest_img/opencv/results2/frame_0002.jpg\n",
            "Saved to: /content/gdrive/MyDrive/pytest_img/opencv/results2/frame_0003.jpg\n",
            "Saved to: /content/gdrive/MyDrive/pytest_img/opencv/results2/frame_0004.jpg\n",
            "Saved to: /content/gdrive/MyDrive/pytest_img/opencv/results2/frame_0005.jpg\n",
            "Saved to: /content/gdrive/MyDrive/pytest_img/opencv/results2/frame_0006.jpg\n",
            "Saved to: /content/gdrive/MyDrive/pytest_img/opencv/results2/frame_0007.jpg\n",
            "Saved to: /content/gdrive/MyDrive/pytest_img/opencv/results2/frame_0008.jpg\n",
            "Saved to: /content/gdrive/MyDrive/pytest_img/opencv/results2/frame_0009.jpg\n",
            "Saved to: /content/gdrive/MyDrive/pytest_img/opencv/results2/frame_0010.jpg\n",
            "Saved to: /content/gdrive/MyDrive/pytest_img/opencv/results2/frame_0011.jpg\n",
            "Saved to: /content/gdrive/MyDrive/pytest_img/opencv/results2/frame_0012.jpg\n",
            "Saved to: /content/gdrive/MyDrive/pytest_img/opencv/results2/frame_0013.jpg\n",
            "Saved to: /content/gdrive/MyDrive/pytest_img/opencv/results2/frame_0014.jpg\n",
            "Saved to: /content/gdrive/MyDrive/pytest_img/opencv/results2/frame_0015.jpg\n",
            "Saved to: /content/gdrive/MyDrive/pytest_img/opencv/results2/frame_0016.jpg\n",
            "Saved to: /content/gdrive/MyDrive/pytest_img/opencv/results2/frame_0017.jpg\n",
            "Saved to: /content/gdrive/MyDrive/pytest_img/opencv/results2/frame_0018.jpg\n",
            "Saved to: /content/gdrive/MyDrive/pytest_img/opencv/results2/frame_0019.jpg\n",
            "Saved to: /content/gdrive/MyDrive/pytest_img/opencv/results2/frame_0020.jpg\n",
            "Saved to: /content/gdrive/MyDrive/pytest_img/opencv/results2/frame_0021.jpg\n",
            "Saved to: /content/gdrive/MyDrive/pytest_img/opencv/results2/frame_0022.jpg\n",
            "Saved to: /content/gdrive/MyDrive/pytest_img/opencv/results2/frame_0023.jpg\n",
            "Saved to: /content/gdrive/MyDrive/pytest_img/opencv/results2/frame_0024.jpg\n"
          ]
        }
      ]
    },
    {
      "cell_type": "code",
      "source": [],
      "metadata": {
        "id": "O976Ew1Ku5Bd"
      },
      "execution_count": null,
      "outputs": []
    }
  ]
}