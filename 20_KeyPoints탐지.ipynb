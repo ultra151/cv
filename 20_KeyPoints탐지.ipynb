{
  "nbformat": 4,
  "nbformat_minor": 0,
  "metadata": {
    "colab": {
      "provenance": [],
      "authorship_tag": "ABX9TyOy/CHw+WzSrRM/T6vsdrOz",
      "include_colab_link": true
    },
    "kernelspec": {
      "name": "python3",
      "display_name": "Python 3"
    },
    "language_info": {
      "name": "python"
    }
  },
  "cells": [
    {
      "cell_type": "markdown",
      "metadata": {
        "id": "view-in-github",
        "colab_type": "text"
      },
      "source": [
        "<a href=\"https://colab.research.google.com/github/ultra151/cv/blob/main/20_KeyPoints%ED%83%90%EC%A7%80.ipynb\" target=\"_parent\"><img src=\"https://colab.research.google.com/assets/colab-badge.svg\" alt=\"Open In Colab\"/></a>"
      ]
    },
    {
      "cell_type": "code",
      "execution_count": null,
      "metadata": {
        "colab": {
          "base_uri": "https://localhost:8080/"
        },
        "id": "xYk3MMI7x9Uf",
        "outputId": "b04e8cc9-ada3-4b31-f898-62a3f801050a"
      },
      "outputs": [
        {
          "output_type": "stream",
          "name": "stdout",
          "text": [
            "Mounted at /content/gdrive\n"
          ]
        }
      ],
      "source": [
        "from google.colab import drive\n",
        "drive.mount('/content/gdrive')"
      ]
    },
    {
      "cell_type": "code",
      "source": [
        "!pip install torch torchvision"
      ],
      "metadata": {
        "colab": {
          "base_uri": "https://localhost:8080/"
        },
        "collapsed": true,
        "id": "FSu54C5I3vYH",
        "outputId": "341c6c79-5c59-4f63-f5f1-c866666e20f7"
      },
      "execution_count": null,
      "outputs": [
        {
          "output_type": "stream",
          "name": "stdout",
          "text": [
            "Requirement already satisfied: torch in /usr/local/lib/python3.10/dist-packages (2.5.1+cu121)\n",
            "Requirement already satisfied: torchvision in /usr/local/lib/python3.10/dist-packages (0.20.1+cu121)\n",
            "Requirement already satisfied: filelock in /usr/local/lib/python3.10/dist-packages (from torch) (3.16.1)\n",
            "Requirement already satisfied: typing-extensions>=4.8.0 in /usr/local/lib/python3.10/dist-packages (from torch) (4.12.2)\n",
            "Requirement already satisfied: networkx in /usr/local/lib/python3.10/dist-packages (from torch) (3.4.2)\n",
            "Requirement already satisfied: jinja2 in /usr/local/lib/python3.10/dist-packages (from torch) (3.1.4)\n",
            "Requirement already satisfied: fsspec in /usr/local/lib/python3.10/dist-packages (from torch) (2024.10.0)\n",
            "Requirement already satisfied: sympy==1.13.1 in /usr/local/lib/python3.10/dist-packages (from torch) (1.13.1)\n",
            "Requirement already satisfied: mpmath<1.4,>=1.1.0 in /usr/local/lib/python3.10/dist-packages (from sympy==1.13.1->torch) (1.3.0)\n",
            "Requirement already satisfied: numpy in /usr/local/lib/python3.10/dist-packages (from torchvision) (1.26.4)\n",
            "Requirement already satisfied: pillow!=8.3.*,>=5.3.0 in /usr/local/lib/python3.10/dist-packages (from torchvision) (11.0.0)\n",
            "Requirement already satisfied: MarkupSafe>=2.0 in /usr/local/lib/python3.10/dist-packages (from jinja2->torch) (3.0.2)\n"
          ]
        }
      ]
    },
    {
      "cell_type": "code",
      "source": [
        "!pip install ultralytics"
      ],
      "metadata": {
        "colab": {
          "base_uri": "https://localhost:8080/"
        },
        "collapsed": true,
        "id": "lKXaaZCw38jD",
        "outputId": "7277cd7d-d812-4254-ce76-cbe28d05223d"
      },
      "execution_count": null,
      "outputs": [
        {
          "output_type": "stream",
          "name": "stdout",
          "text": [
            "Collecting ultralytics\n",
            "  Downloading ultralytics-8.3.38-py3-none-any.whl.metadata (35 kB)\n",
            "Requirement already satisfied: numpy>=1.23.0 in /usr/local/lib/python3.10/dist-packages (from ultralytics) (1.26.4)\n",
            "Requirement already satisfied: matplotlib>=3.3.0 in /usr/local/lib/python3.10/dist-packages (from ultralytics) (3.8.0)\n",
            "Requirement already satisfied: opencv-python>=4.6.0 in /usr/local/lib/python3.10/dist-packages (from ultralytics) (4.10.0.84)\n",
            "Requirement already satisfied: pillow>=7.1.2 in /usr/local/lib/python3.10/dist-packages (from ultralytics) (11.0.0)\n",
            "Requirement already satisfied: pyyaml>=5.3.1 in /usr/local/lib/python3.10/dist-packages (from ultralytics) (6.0.2)\n",
            "Requirement already satisfied: requests>=2.23.0 in /usr/local/lib/python3.10/dist-packages (from ultralytics) (2.32.3)\n",
            "Requirement already satisfied: scipy>=1.4.1 in /usr/local/lib/python3.10/dist-packages (from ultralytics) (1.13.1)\n",
            "Requirement already satisfied: torch>=1.8.0 in /usr/local/lib/python3.10/dist-packages (from ultralytics) (2.5.1+cu121)\n",
            "Requirement already satisfied: torchvision>=0.9.0 in /usr/local/lib/python3.10/dist-packages (from ultralytics) (0.20.1+cu121)\n",
            "Requirement already satisfied: tqdm>=4.64.0 in /usr/local/lib/python3.10/dist-packages (from ultralytics) (4.66.6)\n",
            "Requirement already satisfied: psutil in /usr/local/lib/python3.10/dist-packages (from ultralytics) (5.9.5)\n",
            "Requirement already satisfied: py-cpuinfo in /usr/local/lib/python3.10/dist-packages (from ultralytics) (9.0.0)\n",
            "Requirement already satisfied: pandas>=1.1.4 in /usr/local/lib/python3.10/dist-packages (from ultralytics) (2.2.2)\n",
            "Requirement already satisfied: seaborn>=0.11.0 in /usr/local/lib/python3.10/dist-packages (from ultralytics) (0.13.2)\n",
            "Collecting ultralytics-thop>=2.0.0 (from ultralytics)\n",
            "  Downloading ultralytics_thop-2.0.12-py3-none-any.whl.metadata (9.4 kB)\n",
            "Requirement already satisfied: contourpy>=1.0.1 in /usr/local/lib/python3.10/dist-packages (from matplotlib>=3.3.0->ultralytics) (1.3.1)\n",
            "Requirement already satisfied: cycler>=0.10 in /usr/local/lib/python3.10/dist-packages (from matplotlib>=3.3.0->ultralytics) (0.12.1)\n",
            "Requirement already satisfied: fonttools>=4.22.0 in /usr/local/lib/python3.10/dist-packages (from matplotlib>=3.3.0->ultralytics) (4.55.0)\n",
            "Requirement already satisfied: kiwisolver>=1.0.1 in /usr/local/lib/python3.10/dist-packages (from matplotlib>=3.3.0->ultralytics) (1.4.7)\n",
            "Requirement already satisfied: packaging>=20.0 in /usr/local/lib/python3.10/dist-packages (from matplotlib>=3.3.0->ultralytics) (24.2)\n",
            "Requirement already satisfied: pyparsing>=2.3.1 in /usr/local/lib/python3.10/dist-packages (from matplotlib>=3.3.0->ultralytics) (3.2.0)\n",
            "Requirement already satisfied: python-dateutil>=2.7 in /usr/local/lib/python3.10/dist-packages (from matplotlib>=3.3.0->ultralytics) (2.8.2)\n",
            "Requirement already satisfied: pytz>=2020.1 in /usr/local/lib/python3.10/dist-packages (from pandas>=1.1.4->ultralytics) (2024.2)\n",
            "Requirement already satisfied: tzdata>=2022.7 in /usr/local/lib/python3.10/dist-packages (from pandas>=1.1.4->ultralytics) (2024.2)\n",
            "Requirement already satisfied: charset-normalizer<4,>=2 in /usr/local/lib/python3.10/dist-packages (from requests>=2.23.0->ultralytics) (3.4.0)\n",
            "Requirement already satisfied: idna<4,>=2.5 in /usr/local/lib/python3.10/dist-packages (from requests>=2.23.0->ultralytics) (3.10)\n",
            "Requirement already satisfied: urllib3<3,>=1.21.1 in /usr/local/lib/python3.10/dist-packages (from requests>=2.23.0->ultralytics) (2.2.3)\n",
            "Requirement already satisfied: certifi>=2017.4.17 in /usr/local/lib/python3.10/dist-packages (from requests>=2.23.0->ultralytics) (2024.8.30)\n",
            "Requirement already satisfied: filelock in /usr/local/lib/python3.10/dist-packages (from torch>=1.8.0->ultralytics) (3.16.1)\n",
            "Requirement already satisfied: typing-extensions>=4.8.0 in /usr/local/lib/python3.10/dist-packages (from torch>=1.8.0->ultralytics) (4.12.2)\n",
            "Requirement already satisfied: networkx in /usr/local/lib/python3.10/dist-packages (from torch>=1.8.0->ultralytics) (3.4.2)\n",
            "Requirement already satisfied: jinja2 in /usr/local/lib/python3.10/dist-packages (from torch>=1.8.0->ultralytics) (3.1.4)\n",
            "Requirement already satisfied: fsspec in /usr/local/lib/python3.10/dist-packages (from torch>=1.8.0->ultralytics) (2024.10.0)\n",
            "Requirement already satisfied: sympy==1.13.1 in /usr/local/lib/python3.10/dist-packages (from torch>=1.8.0->ultralytics) (1.13.1)\n",
            "Requirement already satisfied: mpmath<1.4,>=1.1.0 in /usr/local/lib/python3.10/dist-packages (from sympy==1.13.1->torch>=1.8.0->ultralytics) (1.3.0)\n",
            "Requirement already satisfied: six>=1.5 in /usr/local/lib/python3.10/dist-packages (from python-dateutil>=2.7->matplotlib>=3.3.0->ultralytics) (1.16.0)\n",
            "Requirement already satisfied: MarkupSafe>=2.0 in /usr/local/lib/python3.10/dist-packages (from jinja2->torch>=1.8.0->ultralytics) (3.0.2)\n",
            "Downloading ultralytics-8.3.38-py3-none-any.whl (896 kB)\n",
            "\u001b[2K   \u001b[90m━━━━━━━━━━━━━━━━━━━━━━━━━━━━━━━━━━━━━━━━\u001b[0m \u001b[32m896.3/896.3 kB\u001b[0m \u001b[31m22.8 MB/s\u001b[0m eta \u001b[36m0:00:00\u001b[0m\n",
            "\u001b[?25hDownloading ultralytics_thop-2.0.12-py3-none-any.whl (26 kB)\n",
            "Installing collected packages: ultralytics-thop, ultralytics\n",
            "Successfully installed ultralytics-8.3.38 ultralytics-thop-2.0.12\n"
          ]
        }
      ]
    },
    {
      "cell_type": "code",
      "source": [
        "%cd /content/gdrive/MyDrive/pytest_img/YOLO/"
      ],
      "metadata": {
        "colab": {
          "base_uri": "https://localhost:8080/"
        },
        "id": "mz9a2Lhk4DBE",
        "outputId": "59356cf7-aed4-4cf5-d8ef-29b1bcb4d029"
      },
      "execution_count": null,
      "outputs": [
        {
          "output_type": "stream",
          "name": "stdout",
          "text": [
            "/content/gdrive/MyDrive/pytest_img/YOLO\n"
          ]
        }
      ]
    },
    {
      "cell_type": "code",
      "source": [
        "!ls"
      ],
      "metadata": {
        "colab": {
          "base_uri": "https://localhost:8080/"
        },
        "id": "CvHvqtK34V98",
        "outputId": "46c48a31-424f-4202-f1aa-2105e04d28dc"
      },
      "execution_count": null,
      "outputs": [
        {
          "output_type": "stream",
          "name": "stdout",
          "text": [
            "data.yaml    nets\t\t  README.roboflow.gdoc\tsample.mp4  train  walking.mp4\tyolov5s.pt\n",
            "gangnam.jpg  README.dataset.gdoc  results\t\ttest\t    valid  yolov5\n"
          ]
        }
      ]
    },
    {
      "cell_type": "code",
      "source": [
        "from ultralytics import YOLO\n",
        "model = YOLO(\"../models/yolov8m-pose.pt\")"
      ],
      "metadata": {
        "colab": {
          "base_uri": "https://localhost:8080/"
        },
        "id": "BrjjALc-4L1i",
        "outputId": "b2c27eb9-0faa-4819-ee73-ad3c5497a362"
      },
      "execution_count": null,
      "outputs": [
        {
          "output_type": "stream",
          "name": "stdout",
          "text": [
            "Creating new Ultralytics Settings v0.0.6 file ✅ \n",
            "View Ultralytics Settings with 'yolo settings' or at '/root/.config/Ultralytics/settings.json'\n",
            "Update Settings with 'yolo settings key=value', i.e. 'yolo settings runs_dir=path/to/dir'. For help see https://docs.ultralytics.com/quickstart/#ultralytics-settings.\n",
            "Downloading https://github.com/ultralytics/assets/releases/download/v8.3.0/yolov8m-pose.pt to '../models/yolov8m-pose.pt'...\n"
          ]
        },
        {
          "output_type": "stream",
          "name": "stderr",
          "text": [
            "100%|██████████| 50.8M/50.8M [00:00<00:00, 156MB/s]\n"
          ]
        }
      ]
    },
    {
      "cell_type": "code",
      "source": [
        "seconds = 1\n",
        "\n",
        "videl_path = '/content/gdrive/MyDrive/pytest_img/YOLO/walking.mp4'\n",
        "output_dir = '/content/gdrive/MyDrive/pytest_img/YOLO/results'"
      ],
      "metadata": {
        "id": "SOM1is5m4mcA"
      },
      "execution_count": null,
      "outputs": []
    },
    {
      "cell_type": "code",
      "source": [
        "import torch\n",
        "def predict(frame, iou=0.7, conf=0.25):\n",
        "    results = model(\n",
        "        source = frame,\n",
        "        device = \"0\" if torch.cuda.is_available() else \"cpu\",\n",
        "        iou = iou,\n",
        "        conf = conf,\n",
        "        verbose = False,\n",
        "    )\n",
        "    return results[0]"
      ],
      "metadata": {
        "id": "llJpnbIS4mYl"
      },
      "execution_count": null,
      "outputs": []
    },
    {
      "cell_type": "code",
      "source": [
        "import cv2\n",
        "import numpy as np\n",
        "\n",
        "def draw_keypoints(result, frame):\n",
        "    connections = [\n",
        "        ([4,2,0,1,3], (0,255,0)),\n",
        "        ([10,8,6,5,7,9], (255,0,0)),\n",
        "        ([6,12,11,5], (255,0,255)),\n",
        "        ([12,14,16], (0,165,255)),\n",
        "        ([11,13,15], (0,165,255))\n",
        "    ]\n",
        "    for kps in result.keypoints:\n",
        "        kps = kps.data.squeeze()\n",
        "        nkps = kps.cpu().numpy()\n",
        "\n",
        "        for group, color in connections:\n",
        "            for i in range(len(group) - 1):\n",
        "                idx1, idx2 = group[i], group[i+1]\n",
        "                x1,y1,score1 = nkps[idx1]\n",
        "                x2,y2,score2 = nkps[idx2]\n",
        "\n",
        "                if score1 > 0.5 and score2 > 0.5:\n",
        "                    point1 = (int(x1), int(y1))\n",
        "                    point2 = (int(x2), int(y2))\n",
        "\n",
        "                    cv2.circle(frame, point1, 3, (0,0,255), cv2.FILLED)\n",
        "                    cv2.putText(frame, str(idx1), point1, cv2.FONT_HERSHEY_COMPLEX, 0.5, (0,0,255), 1)\n",
        "\n",
        "                    cv2.circle(frame, point2, 3, (0,0,255), cv2.FILLED)\n",
        "                    cv2.putText(frame, str(idx2), point2, cv2.FONT_HERSHEY_COMPLEX, 0.5, (0,0,255), 1)\n",
        "                    cv2.line(frame, point1, point2, color, 1)\n",
        "    return frame\n",
        "\n"
      ],
      "metadata": {
        "id": "yvlFbTfQ4mVI"
      },
      "execution_count": null,
      "outputs": []
    },
    {
      "cell_type": "code",
      "source": [
        "import cv2\n",
        "\n",
        "capture = cv2.VideoCapture(videl_path)\n",
        "if capture.get(cv2.CAP_PROP_POS_FRAMES) == capture.get(cv2.CAP_PROP_FRAME_COUNT):\n",
        "    capture.set(cv2.CAP_PROP_POS_FRAMES, 0)\n",
        "\n",
        "fps = capture.get(cv2.CAP_PROP_FPS)\n",
        "total_frames = int(fps * seconds)\n",
        "print('total 프레임:', total_frames)"
      ],
      "metadata": {
        "colab": {
          "base_uri": "https://localhost:8080/"
        },
        "id": "RtZjlBOH4mJD",
        "outputId": "10fee385-9641-4b91-960f-c139b4c661f6"
      },
      "execution_count": null,
      "outputs": [
        {
          "output_type": "stream",
          "name": "stdout",
          "text": [
            "total 프레임: 25\n"
          ]
        }
      ]
    },
    {
      "cell_type": "code",
      "source": [
        "import os\n",
        "\n",
        "if not os.path.exists(output_dir):\n",
        "    os.makedirs(output_dir)\n",
        "\n",
        "frame_count = 0\n",
        "while frame_count < total_frames:\n",
        "    ok, frame = capture.read()\n",
        "    if not ok:\n",
        "        print(\"프레임 읽기에 실패했습니다. 종료.\")\n",
        "        break\n",
        "\n",
        "    result = predict(frame)\n",
        "    results = draw_keypoints(result, frame)\n",
        "\n",
        "    output_path = os.path.join(output_dir, f\"output_{frame_count:04d}.jpg\")\n",
        "    cv2.imwrite(output_path, results)\n",
        "    print(\"Saved to:\", output_path)\n",
        "\n",
        "    frame_count += 1\n",
        "    #key = cv2.waitKey(1)\n",
        "    #if key == ord('q'):\n",
        "    #    print(\"사용자가 종료를 요청했습니다.\")\n",
        "    #    break\n",
        "\n",
        "#capture.release()\n",
        "#cv2.destroyAllWindows()"
      ],
      "metadata": {
        "colab": {
          "base_uri": "https://localhost:8080/"
        },
        "id": "GwUZQX164iWZ",
        "outputId": "95fbfe67-ec34-46d0-8277-1ed7c3a948b0"
      },
      "execution_count": null,
      "outputs": [
        {
          "output_type": "stream",
          "name": "stdout",
          "text": [
            "Saved to: /content/gdrive/MyDrive/pytest_img/YOLO/results/output_0000.jpg\n",
            "Saved to: /content/gdrive/MyDrive/pytest_img/YOLO/results/output_0001.jpg\n",
            "Saved to: /content/gdrive/MyDrive/pytest_img/YOLO/results/output_0002.jpg\n",
            "Saved to: /content/gdrive/MyDrive/pytest_img/YOLO/results/output_0003.jpg\n",
            "Saved to: /content/gdrive/MyDrive/pytest_img/YOLO/results/output_0004.jpg\n",
            "Saved to: /content/gdrive/MyDrive/pytest_img/YOLO/results/output_0005.jpg\n",
            "Saved to: /content/gdrive/MyDrive/pytest_img/YOLO/results/output_0006.jpg\n",
            "Saved to: /content/gdrive/MyDrive/pytest_img/YOLO/results/output_0007.jpg\n",
            "Saved to: /content/gdrive/MyDrive/pytest_img/YOLO/results/output_0008.jpg\n",
            "Saved to: /content/gdrive/MyDrive/pytest_img/YOLO/results/output_0009.jpg\n",
            "Saved to: /content/gdrive/MyDrive/pytest_img/YOLO/results/output_0010.jpg\n",
            "Saved to: /content/gdrive/MyDrive/pytest_img/YOLO/results/output_0011.jpg\n",
            "Saved to: /content/gdrive/MyDrive/pytest_img/YOLO/results/output_0012.jpg\n",
            "Saved to: /content/gdrive/MyDrive/pytest_img/YOLO/results/output_0013.jpg\n",
            "Saved to: /content/gdrive/MyDrive/pytest_img/YOLO/results/output_0014.jpg\n",
            "Saved to: /content/gdrive/MyDrive/pytest_img/YOLO/results/output_0015.jpg\n",
            "Saved to: /content/gdrive/MyDrive/pytest_img/YOLO/results/output_0016.jpg\n",
            "Saved to: /content/gdrive/MyDrive/pytest_img/YOLO/results/output_0017.jpg\n",
            "Saved to: /content/gdrive/MyDrive/pytest_img/YOLO/results/output_0018.jpg\n",
            "Saved to: /content/gdrive/MyDrive/pytest_img/YOLO/results/output_0019.jpg\n",
            "Saved to: /content/gdrive/MyDrive/pytest_img/YOLO/results/output_0020.jpg\n",
            "Saved to: /content/gdrive/MyDrive/pytest_img/YOLO/results/output_0021.jpg\n",
            "Saved to: /content/gdrive/MyDrive/pytest_img/YOLO/results/output_0022.jpg\n",
            "Saved to: /content/gdrive/MyDrive/pytest_img/YOLO/results/output_0023.jpg\n",
            "Saved to: /content/gdrive/MyDrive/pytest_img/YOLO/results/output_0024.jpg\n"
          ]
        }
      ]
    },
    {
      "cell_type": "code",
      "source": [],
      "metadata": {
        "id": "-HSxYD4N_zLw"
      },
      "execution_count": null,
      "outputs": []
    }
  ]
}